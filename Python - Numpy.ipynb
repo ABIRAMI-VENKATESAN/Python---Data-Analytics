{
 "cells": [
  {
   "cell_type": "markdown",
   "id": "afe6bd94",
   "metadata": {},
   "source": [
    "# Numpy (Numerical Python) :"
   ]
  },
  {
   "cell_type": "code",
   "execution_count": 2,
   "id": "a0c2ba42",
   "metadata": {},
   "outputs": [
    {
     "name": "stdout",
     "output_type": "stream",
     "text": [
      "[ 2  4  6  8 10]\n"
     ]
    }
   ],
   "source": [
    "import numpy as np\n",
    "x = np.array([2,4,6,8,10])\n",
    "print(x)"
   ]
  },
  {
   "cell_type": "code",
   "execution_count": 3,
   "id": "4835d543",
   "metadata": {},
   "outputs": [
    {
     "data": {
      "text/plain": [
       "array([1., 2., 3., 4., 5.])"
      ]
     },
     "execution_count": 3,
     "metadata": {},
     "output_type": "execute_result"
    }
   ],
   "source": [
    "x/2"
   ]
  },
  {
   "cell_type": "code",
   "execution_count": 4,
   "id": "ed91d7e2",
   "metadata": {},
   "outputs": [
    {
     "data": {
      "text/plain": [
       "array([ 4,  8, 12, 16, 20])"
      ]
     },
     "execution_count": 4,
     "metadata": {},
     "output_type": "execute_result"
    }
   ],
   "source": [
    "x*2"
   ]
  },
  {
   "cell_type": "code",
   "execution_count": 5,
   "id": "14f352b5",
   "metadata": {},
   "outputs": [
    {
     "name": "stdout",
     "output_type": "stream",
     "text": [
      "1.0\n",
      "2.0\n",
      "3.0\n",
      "4.0\n",
      "5.0\n"
     ]
    }
   ],
   "source": [
    "x = [2,4,6,8,10]\n",
    "for i in x:\n",
    "    print(i/2)"
   ]
  },
  {
   "cell_type": "code",
   "execution_count": 9,
   "id": "a56deac1",
   "metadata": {},
   "outputs": [
    {
     "ename": "TypeError",
     "evalue": "unsupported operand type(s) for /: 'list' and 'int'",
     "output_type": "error",
     "traceback": [
      "\u001b[1;31m---------------------------------------------------------------------------\u001b[0m",
      "\u001b[1;31mTypeError\u001b[0m                                 Traceback (most recent call last)",
      "Input \u001b[1;32mIn [9]\u001b[0m, in \u001b[0;36m<cell line: 1>\u001b[1;34m()\u001b[0m\n\u001b[1;32m----> 1\u001b[0m \u001b[43mx\u001b[49m\u001b[38;5;241;43m/\u001b[39;49m\u001b[38;5;241;43m2\u001b[39;49m\n",
      "\u001b[1;31mTypeError\u001b[0m: unsupported operand type(s) for /: 'list' and 'int'"
     ]
    }
   ],
   "source": [
    "x/2"
   ]
  },
  {
   "cell_type": "code",
   "execution_count": 10,
   "id": "91d65142",
   "metadata": {},
   "outputs": [
    {
     "data": {
      "text/plain": [
       "array([7, 0, 1, 1])"
      ]
     },
     "execution_count": 10,
     "metadata": {},
     "output_type": "execute_result"
    }
   ],
   "source": [
    "import numpy as np\n",
    "np.random.randint(0,10,4)"
   ]
  },
  {
   "cell_type": "code",
   "execution_count": 12,
   "id": "5ee66bf4",
   "metadata": {},
   "outputs": [
    {
     "data": {
      "text/plain": [
       "array([[2, 2, 7],\n",
       "       [8, 5, 6],\n",
       "       [8, 6, 2]])"
      ]
     },
     "execution_count": 12,
     "metadata": {},
     "output_type": "execute_result"
    }
   ],
   "source": [
    "import numpy as np\n",
    "array = np.random.randint(0,10,(3,3))\n",
    "array"
   ]
  },
  {
   "cell_type": "code",
   "execution_count": 14,
   "id": "43c8b896",
   "metadata": {},
   "outputs": [
    {
     "data": {
      "text/plain": [
       "array([0.89086216, 0.80516081, 0.80266171, 0.17066283, 0.75288394,\n",
       "       0.11741666])"
      ]
     },
     "execution_count": 14,
     "metadata": {},
     "output_type": "execute_result"
    }
   ],
   "source": [
    "np.random.rand(6)"
   ]
  },
  {
   "cell_type": "markdown",
   "id": "f5073377",
   "metadata": {},
   "source": [
    "# NUMPY SLICING OR ARRAY SLICING: "
   ]
  },
  {
   "cell_type": "code",
   "execution_count": 15,
   "id": "6e175a42",
   "metadata": {},
   "outputs": [
    {
     "data": {
      "text/plain": [
       "array([[1, 7, 0, 5],\n",
       "       [8, 5, 3, 6],\n",
       "       [2, 3, 1, 6],\n",
       "       [0, 5, 7, 3],\n",
       "       [3, 2, 8, 6]])"
      ]
     },
     "execution_count": 15,
     "metadata": {},
     "output_type": "execute_result"
    }
   ],
   "source": [
    "data = np.random.randint(0,10,(5,4))\n",
    "data"
   ]
  },
  {
   "cell_type": "code",
   "execution_count": 16,
   "id": "1b3e8ce7",
   "metadata": {},
   "outputs": [
    {
     "data": {
      "text/plain": [
       "array([[8, 5],\n",
       "       [2, 3],\n",
       "       [0, 5],\n",
       "       [3, 2]])"
      ]
     },
     "execution_count": 16,
     "metadata": {},
     "output_type": "execute_result"
    }
   ],
   "source": [
    "data[1: , :2]"
   ]
  },
  {
   "cell_type": "markdown",
   "id": "26727b96",
   "metadata": {},
   "source": [
    "# ARRAY:"
   ]
  },
  {
   "cell_type": "markdown",
   "id": "570d6e1f",
   "metadata": {},
   "source": [
    " 1 DIMENTIONAL ARRAY\n",
    ", 2 DIMENTIONAL ARRAY\n",
    ", 3 DIMENTIONAL ARRAY"
   ]
  },
  {
   "cell_type": "markdown",
   "id": "733b443a",
   "metadata": {},
   "source": [
    "1D ARRAY"
   ]
  },
  {
   "cell_type": "code",
   "execution_count": 17,
   "id": "85eb5040",
   "metadata": {},
   "outputs": [
    {
     "name": "stdout",
     "output_type": "stream",
     "text": [
      "{24, 1, 23}\n"
     ]
    }
   ],
   "source": [
    "import numpy as np\n",
    "a = np.array({1,23,24})\n",
    "print(a)"
   ]
  },
  {
   "cell_type": "markdown",
   "id": "8b0e0f49",
   "metadata": {},
   "source": [
    "2D ARRAY"
   ]
  },
  {
   "cell_type": "code",
   "execution_count": 18,
   "id": "69e331b4",
   "metadata": {},
   "outputs": [
    {
     "name": "stdout",
     "output_type": "stream",
     "text": [
      "[[ 2  4  6]\n",
      " [ 8 10 12]]\n"
     ]
    }
   ],
   "source": [
    "b = np.array([[2,4,6],[8,10,12]])\n",
    "print(b)"
   ]
  },
  {
   "cell_type": "markdown",
   "id": "586350b1",
   "metadata": {},
   "source": [
    "3D ARRAY"
   ]
  },
  {
   "cell_type": "code",
   "execution_count": 20,
   "id": "a81f5fb8",
   "metadata": {},
   "outputs": [
    {
     "name": "stdout",
     "output_type": "stream",
     "text": [
      "(array([[ 2,  4,  6],\n",
      "       [ 8, 10, 12],\n",
      "       [ 5,  6,  7]]), [[1, 7, 3], [5, 5, 6], [5, 8, 7]])\n"
     ]
    }
   ],
   "source": [
    "b = np.array([[2,4,6],[8,10,12],[5,6,7]]),([[1,7,3],[5,5,6],[5,8,7]])\n",
    "print(b)"
   ]
  },
  {
   "cell_type": "markdown",
   "id": "fef8729c",
   "metadata": {},
   "source": [
    "# INITIALIZE NUMPY ARRAY:"
   ]
  },
  {
   "cell_type": "code",
   "execution_count": 25,
   "id": "9f65a0e9",
   "metadata": {},
   "outputs": [
    {
     "data": {
      "text/plain": [
       "array([[0., 0., 0.],\n",
       "       [0., 0., 0.]])"
      ]
     },
     "execution_count": 25,
     "metadata": {},
     "output_type": "execute_result"
    }
   ],
   "source": [
    "import numpy as np\n",
    "np.zeros ((2,3))"
   ]
  },
  {
   "cell_type": "code",
   "execution_count": 26,
   "id": "c5a3e8d3",
   "metadata": {},
   "outputs": [
    {
     "data": {
      "text/plain": [
       "array([[1., 1., 1.],\n",
       "       [1., 1., 1.],\n",
       "       [1., 1., 1.],\n",
       "       [1., 1., 1.]])"
      ]
     },
     "execution_count": 26,
     "metadata": {},
     "output_type": "execute_result"
    }
   ],
   "source": [
    "np.ones((4,3))"
   ]
  },
  {
   "cell_type": "code",
   "execution_count": 27,
   "id": "3d49993f",
   "metadata": {},
   "outputs": [
    {
     "data": {
      "text/plain": [
       "array([[-6, -6, -6, -6],\n",
       "       [-6, -6, -6, -6],\n",
       "       [-6, -6, -6, -6],\n",
       "       [-6, -6, -6, -6]])"
      ]
     },
     "execution_count": 27,
     "metadata": {},
     "output_type": "execute_result"
    }
   ],
   "source": [
    "np.full((4,4),-6)"
   ]
  },
  {
   "cell_type": "markdown",
   "id": "99d3c9a0",
   "metadata": {},
   "source": [
    "# INITIALIZE 'X' AND 'Y' WITH AN INTERVAL OF Z :"
   ]
  },
  {
   "cell_type": "code",
   "execution_count": 32,
   "id": "56dff972",
   "metadata": {},
   "outputs": [
    {
     "data": {
      "text/plain": [
       "array([ 0,  5, 10, 15, 20, 25])"
      ]
     },
     "execution_count": 32,
     "metadata": {},
     "output_type": "execute_result"
    }
   ],
   "source": [
    "import numpy as np\n",
    "np.arange (0,30,5)"
   ]
  },
  {
   "cell_type": "code",
   "execution_count": 34,
   "id": "f5560bd1",
   "metadata": {},
   "outputs": [
    {
     "data": {
      "text/plain": [
       "array([0, 1, 2, 3, 4, 5, 6, 7, 8, 9])"
      ]
     },
     "execution_count": 34,
     "metadata": {},
     "output_type": "execute_result"
    }
   ],
   "source": [
    "np.arange(0,10)"
   ]
  },
  {
   "cell_type": "markdown",
   "id": "c924655b",
   "metadata": {},
   "source": [
    "# INITIALIZE 'Z' NUMBERS BETWEEN 'X' AND 'Y':"
   ]
  },
  {
   "cell_type": "code",
   "execution_count": 35,
   "id": "f7161098",
   "metadata": {},
   "outputs": [
    {
     "data": {
      "text/plain": [
       "array([ 5.        ,  6.66666667,  8.33333333, 10.        ])"
      ]
     },
     "execution_count": 35,
     "metadata": {},
     "output_type": "execute_result"
    }
   ],
   "source": [
    "np.linspace(5,10,4)"
   ]
  },
  {
   "cell_type": "code",
   "execution_count": 37,
   "id": "407d9aaf",
   "metadata": {},
   "outputs": [
    {
     "data": {
      "text/plain": [
       "array([ 10.,  20.,  30.,  40.,  50.,  60.,  70.,  80.,  90., 100.])"
      ]
     },
     "execution_count": 37,
     "metadata": {},
     "output_type": "execute_result"
    }
   ],
   "source": [
    "np.linspace (10,100,10)"
   ]
  },
  {
   "cell_type": "markdown",
   "id": "2973a59c",
   "metadata": {},
   "source": [
    "# EYE FUNCTIONS:"
   ]
  },
  {
   "cell_type": "code",
   "execution_count": 38,
   "id": "b50c1522",
   "metadata": {},
   "outputs": [
    {
     "data": {
      "text/plain": [
       "array([[1., 0., 0.],\n",
       "       [0., 1., 0.],\n",
       "       [0., 0., 1.]])"
      ]
     },
     "execution_count": 38,
     "metadata": {},
     "output_type": "execute_result"
    }
   ],
   "source": [
    "np.eye(3)"
   ]
  },
  {
   "cell_type": "code",
   "execution_count": 40,
   "id": "bbeca427",
   "metadata": {},
   "outputs": [
    {
     "name": "stdout",
     "output_type": "stream",
     "text": [
      "[[ 5  4  0  1]\n",
      " [11  4 10  7]\n",
      " [ 7 10  5  6]\n",
      " [ 7 12 10  4]\n",
      " [ 3  7  3  4]]\n"
     ]
    }
   ],
   "source": [
    "data = np.array([[5,4,0,1],[11,4,10,7],[7,10,5,6],[7,12,10,4],[3,7,3,4]])\n",
    "print(data)"
   ]
  },
  {
   "cell_type": "markdown",
   "id": "d9af9282",
   "metadata": {},
   "source": [
    "# SUM FUNCTION :\n"
   ]
  },
  {
   "cell_type": "code",
   "execution_count": 41,
   "id": "9e861b87",
   "metadata": {},
   "outputs": [
    {
     "data": {
      "text/plain": [
       "120"
      ]
     },
     "execution_count": 41,
     "metadata": {},
     "output_type": "execute_result"
    }
   ],
   "source": [
    "data.sum()"
   ]
  },
  {
   "cell_type": "markdown",
   "id": "790ba344",
   "metadata": {},
   "source": [
    "# MAX FUNCTION:"
   ]
  },
  {
   "cell_type": "code",
   "execution_count": 42,
   "id": "14044e3c",
   "metadata": {},
   "outputs": [
    {
     "data": {
      "text/plain": [
       "12"
      ]
     },
     "execution_count": 42,
     "metadata": {},
     "output_type": "execute_result"
    }
   ],
   "source": [
    "data.max()"
   ]
  },
  {
   "cell_type": "markdown",
   "id": "a20f1000",
   "metadata": {},
   "source": [
    "# MIN FUNCTION:"
   ]
  },
  {
   "cell_type": "code",
   "execution_count": 43,
   "id": "d649c46a",
   "metadata": {},
   "outputs": [
    {
     "data": {
      "text/plain": [
       "0"
      ]
     },
     "execution_count": 43,
     "metadata": {},
     "output_type": "execute_result"
    }
   ],
   "source": [
    "data.min()"
   ]
  },
  {
   "cell_type": "code",
   "execution_count": 44,
   "id": "858c7d79",
   "metadata": {},
   "outputs": [
    {
     "ename": "AttributeError",
     "evalue": "'numpy.ndarray' object has no attribute 'average'",
     "output_type": "error",
     "traceback": [
      "\u001b[1;31m---------------------------------------------------------------------------\u001b[0m",
      "\u001b[1;31mAttributeError\u001b[0m                            Traceback (most recent call last)",
      "Input \u001b[1;32mIn [44]\u001b[0m, in \u001b[0;36m<cell line: 1>\u001b[1;34m()\u001b[0m\n\u001b[1;32m----> 1\u001b[0m \u001b[43mdata\u001b[49m\u001b[38;5;241;43m.\u001b[39;49m\u001b[43maverage\u001b[49m()\n",
      "\u001b[1;31mAttributeError\u001b[0m: 'numpy.ndarray' object has no attribute 'average'"
     ]
    }
   ],
   "source": [
    "data.average()"
   ]
  },
  {
   "cell_type": "markdown",
   "id": "b92f270c",
   "metadata": {},
   "source": [
    "# MEAN FUNCTION:"
   ]
  },
  {
   "cell_type": "code",
   "execution_count": 45,
   "id": "7d6ac43b",
   "metadata": {},
   "outputs": [
    {
     "data": {
      "text/plain": [
       "6.0"
      ]
     },
     "execution_count": 45,
     "metadata": {},
     "output_type": "execute_result"
    }
   ],
   "source": [
    "data.mean()"
   ]
  },
  {
   "cell_type": "markdown",
   "id": "7d5c3820",
   "metadata": {},
   "source": [
    "# ARRAY SHAPE:"
   ]
  },
  {
   "cell_type": "code",
   "execution_count": 47,
   "id": "ddf4cc45",
   "metadata": {},
   "outputs": [
    {
     "name": "stdout",
     "output_type": "stream",
     "text": [
      "[[ 2  4  6]\n",
      " [ 5  6  7]\n",
      " [ 8 10 12]]\n",
      "(3, 3)\n"
     ]
    }
   ],
   "source": [
    "a = np.array([[2,4,6],[5,6,7],[8,10,12]])\n",
    "print(a)\n",
    "print(a.shape)"
   ]
  },
  {
   "cell_type": "markdown",
   "id": "91769fbd",
   "metadata": {},
   "source": [
    "# CHANGING THE SHAPE OF ARRAY:"
   ]
  },
  {
   "cell_type": "code",
   "execution_count": 48,
   "id": "9a18c7d5",
   "metadata": {},
   "outputs": [
    {
     "name": "stdout",
     "output_type": "stream",
     "text": [
      "Original Array:\n",
      " [[ 2  4  6  4]\n",
      " [ 5  6  7  8]\n",
      " [ 8 10 12  4]]\n",
      "Changed Array:\n",
      " [[ 2  4  6]\n",
      " [ 4  5  6]\n",
      " [ 7  8  8]\n",
      " [10 12  4]]\n"
     ]
    }
   ],
   "source": [
    "a = np.array([[2,4,6,4],[5,6,7,8],[8,10,12,4]])\n",
    "print(\"Original Array:\\n\",a)\n",
    "a.shape = (4,3)\n",
    "print(\"Changed Array:\\n\",a)"
   ]
  },
  {
   "cell_type": "code",
   "execution_count": 49,
   "id": "6fd629e9",
   "metadata": {},
   "outputs": [
    {
     "name": "stdout",
     "output_type": "stream",
     "text": [
      "[[1 2]\n",
      " [3 4]\n",
      " [5 6]\n",
      " [5 8]\n",
      " [8 5]\n",
      " [6 4]]\n",
      "2\n"
     ]
    }
   ],
   "source": [
    " b = np.array([[1,2,3],[4,5,6],[5,8,8],[5,6,4]])\n",
    "b.shape = (6,2)\n",
    "print(b)\n",
    "print(b.ndim)\n",
    "    "
   ]
  },
  {
   "cell_type": "code",
   "execution_count": 52,
   "id": "a1501ba0",
   "metadata": {},
   "outputs": [
    {
     "name": "stdout",
     "output_type": "stream",
     "text": [
      "[[[ 0  1  2]\n",
      "  [ 3  4  5]]\n",
      "\n",
      " [[ 6  7  8]\n",
      "  [ 9 10 11]]\n",
      "\n",
      " [[12 13 14]\n",
      "  [15 16 17]]\n",
      "\n",
      " [[18 19 20]\n",
      "  [21 22 23]]]\n",
      "3\n"
     ]
    }
   ],
   "source": [
    "z = np.arange(24)\n",
    "z.shape = (4,2,3)\n",
    "print(z)\n",
    "print(z.ndim)"
   ]
  },
  {
   "cell_type": "markdown",
   "id": "bc060a97",
   "metadata": {},
   "source": [
    "# FINDING THE NUMBER ELEMENTS IN ARRAY:"
   ]
  },
  {
   "cell_type": "code",
   "execution_count": 55,
   "id": "ab4c6c53",
   "metadata": {},
   "outputs": [
    {
     "name": "stdout",
     "output_type": "stream",
     "text": [
      "9\n",
      "(3, 3)\n",
      "2\n",
      "int32\n"
     ]
    }
   ],
   "source": [
    "import numpy as np\n",
    "a = np.array([[1,2,3],[4,5,6],[5,8,12]])\n",
    "print(a.size)\n",
    "print(a.shape)\n",
    "print(a.ndim)\n",
    "print(a.dtype)"
   ]
  },
  {
   "cell_type": "code",
   "execution_count": 58,
   "id": "9e970d97",
   "metadata": {},
   "outputs": [
    {
     "name": "stdout",
     "output_type": "stream",
     "text": [
      "[[ 4 16 14 13  6]\n",
      " [10 17 15  2  3]\n",
      " [ 7 13  5 10 18]\n",
      " [19 16  3  9  7]\n",
      " [ 2  1 18  2 18]\n",
      " [ 4 12  6 18 14]]\n"
     ]
    }
   ],
   "source": [
    "import numpy as np\n",
    "x = np.random.randint(0,20,(6,5))\n",
    "print(x)"
   ]
  },
  {
   "cell_type": "code",
   "execution_count": 59,
   "id": "2fcac4b2",
   "metadata": {},
   "outputs": [
    {
     "data": {
      "text/plain": [
       "array([ 4, 16, 14, 13,  6, 10, 17, 15,  2,  3,  7, 13,  5, 10, 18, 19, 16,\n",
       "        3,  9,  7,  2,  1, 18,  2, 18,  4, 12,  6, 18, 14])"
      ]
     },
     "execution_count": 59,
     "metadata": {},
     "output_type": "execute_result"
    }
   ],
   "source": [
    "x.ravel()"
   ]
  },
  {
   "cell_type": "code",
   "execution_count": 61,
   "id": "05f08839",
   "metadata": {},
   "outputs": [],
   "source": [
    "y = x.ravel()"
   ]
  },
  {
   "cell_type": "code",
   "execution_count": 62,
   "id": "391d4aa2",
   "metadata": {},
   "outputs": [
    {
     "data": {
      "text/plain": [
       "array([[ 4, 16, 14],\n",
       "       [13,  6, 10],\n",
       "       [17, 15,  2],\n",
       "       [ 3,  7, 13],\n",
       "       [ 5, 10, 18],\n",
       "       [19, 16,  3],\n",
       "       [ 9,  7,  2],\n",
       "       [ 1, 18,  2],\n",
       "       [18,  4, 12],\n",
       "       [ 6, 18, 14]])"
      ]
     },
     "execution_count": 62,
     "metadata": {},
     "output_type": "execute_result"
    }
   ],
   "source": [
    "y.reshape(10,3)"
   ]
  },
  {
   "cell_type": "code",
   "execution_count": 64,
   "id": "b5ab6505",
   "metadata": {},
   "outputs": [
    {
     "name": "stdout",
     "output_type": "stream",
     "text": [
      "[[2 3]\n",
      " [4 3]]\n"
     ]
    }
   ],
   "source": [
    "x1 = np.array([[2,3],[4,3]])\n",
    "print(x1)"
   ]
  },
  {
   "cell_type": "code",
   "execution_count": 66,
   "id": "80566cd9",
   "metadata": {},
   "outputs": [
    {
     "name": "stdout",
     "output_type": "stream",
     "text": [
      "[[4 5]\n",
      " [6 7]]\n"
     ]
    }
   ],
   "source": [
    "x2 = np.array([[4,5],[6,7]])\n",
    "print(x2)"
   ]
  },
  {
   "cell_type": "code",
   "execution_count": 67,
   "id": "57525ab9",
   "metadata": {},
   "outputs": [
    {
     "data": {
      "text/plain": [
       "array([[[2, 3],\n",
       "        [4, 3]],\n",
       "\n",
       "       [[4, 5],\n",
       "        [6, 7]]])"
      ]
     },
     "execution_count": 67,
     "metadata": {},
     "output_type": "execute_result"
    }
   ],
   "source": [
    "np.stack([x1,x2])"
   ]
  },
  {
   "cell_type": "code",
   "execution_count": 68,
   "id": "22d18674",
   "metadata": {},
   "outputs": [
    {
     "data": {
      "text/plain": [
       "array([[2, 3, 4, 5],\n",
       "       [4, 3, 6, 7]])"
      ]
     },
     "execution_count": 68,
     "metadata": {},
     "output_type": "execute_result"
    }
   ],
   "source": [
    "np.hstack([x1,x2])"
   ]
  },
  {
   "cell_type": "code",
   "execution_count": 69,
   "id": "7f9e5dbe",
   "metadata": {},
   "outputs": [
    {
     "data": {
      "text/plain": [
       "array([[2, 3],\n",
       "       [4, 3],\n",
       "       [4, 5],\n",
       "       [6, 7]])"
      ]
     },
     "execution_count": 69,
     "metadata": {},
     "output_type": "execute_result"
    }
   ],
   "source": [
    "np.concatenate([x1,x2],axis=0)"
   ]
  },
  {
   "cell_type": "code",
   "execution_count": 70,
   "id": "e0f77ed2",
   "metadata": {},
   "outputs": [
    {
     "data": {
      "text/plain": [
       "array([[2, 3, 4, 5],\n",
       "       [4, 3, 6, 7]])"
      ]
     },
     "execution_count": 70,
     "metadata": {},
     "output_type": "execute_result"
    }
   ],
   "source": [
    "np.concatenate([x1,x2],axis=1)"
   ]
  },
  {
   "cell_type": "markdown",
   "id": "0f38e4a6",
   "metadata": {},
   "source": [
    "# NUMPY ARRAY MATHEMATICS:\n"
   ]
  },
  {
   "cell_type": "markdown",
   "id": "64ca9b58",
   "metadata": {},
   "source": [
    "# SUM:"
   ]
  },
  {
   "cell_type": "code",
   "execution_count": 73,
   "id": "305d5921",
   "metadata": {},
   "outputs": [
    {
     "name": "stdout",
     "output_type": "stream",
     "text": [
      "10.0\n"
     ]
    }
   ],
   "source": [
    "d = np.array(10,dtype='float')\n",
    "print(d)"
   ]
  },
  {
   "cell_type": "code",
   "execution_count": 74,
   "id": "56eeb35a",
   "metadata": {},
   "outputs": [
    {
     "data": {
      "text/plain": [
       "475"
      ]
     },
     "execution_count": 74,
     "metadata": {},
     "output_type": "execute_result"
    }
   ],
   "source": [
    "import numpy as np\n",
    "np.sum([10,30,60,54,63,258])"
   ]
  },
  {
   "cell_type": "code",
   "execution_count": 75,
   "id": "67c28d8c",
   "metadata": {},
   "outputs": [
    {
     "data": {
      "text/plain": [
       "55"
      ]
     },
     "execution_count": 75,
     "metadata": {},
     "output_type": "execute_result"
    }
   ],
   "source": [
    "a = [10,20]\n",
    "b = [20,5]\n",
    "np.sum([a,b])"
   ]
  },
  {
   "cell_type": "code",
   "execution_count": 76,
   "id": "5d2c413a",
   "metadata": {},
   "outputs": [
    {
     "name": "stdout",
     "output_type": "stream",
     "text": [
      "Addition:\n",
      " [[ 8 10 12]\n",
      " [14 16 18]]\n"
     ]
    },
    {
     "data": {
      "text/plain": [
       "2"
      ]
     },
     "execution_count": 76,
     "metadata": {},
     "output_type": "execute_result"
    }
   ],
   "source": [
    "import numpy as np\n",
    "array1 = np.array([[1,2,3],[4,5,6]])\n",
    "array2 = np.array([[7,8,9],[10,11,12]])\n",
    "sum_array = array1 + array2\n",
    "print(\"Addition:\\n\",sum_array)\n",
    "sum_array.ndim"
   ]
  },
  {
   "cell_type": "markdown",
   "id": "bf15ba23",
   "metadata": {},
   "source": [
    "# SUBTRACTION:\n"
   ]
  },
  {
   "cell_type": "code",
   "execution_count": 77,
   "id": "7a521711",
   "metadata": {},
   "outputs": [
    {
     "data": {
      "text/plain": [
       "-10"
      ]
     },
     "execution_count": 77,
     "metadata": {},
     "output_type": "execute_result"
    }
   ],
   "source": [
    "import numpy as np\n",
    "np.subtract(10,20)\n"
   ]
  },
  {
   "cell_type": "code",
   "execution_count": 79,
   "id": "0c8faab0",
   "metadata": {},
   "outputs": [
    {
     "data": {
      "text/plain": [
       "array([ 0, -4])"
      ]
     },
     "execution_count": 79,
     "metadata": {},
     "output_type": "execute_result"
    }
   ],
   "source": [
    "a = np.array([0,1])\n",
    "b=np.array([0,5])\n",
    "np.subtract(a,b)"
   ]
  },
  {
   "cell_type": "code",
   "execution_count": 80,
   "id": "64552a08",
   "metadata": {},
   "outputs": [
    {
     "name": "stdout",
     "output_type": "stream",
     "text": [
      "[ 0 -5  1]\n"
     ]
    }
   ],
   "source": [
    "a = np.array([0,1,6])\n",
    "b = np.array([0,5,3])\n",
    "c = np.array([0,1,2])\n",
    "sub = a-b-c\n",
    "print(sub)"
   ]
  },
  {
   "cell_type": "markdown",
   "id": "b723374a",
   "metadata": {},
   "source": [
    "# MULTIPLICATION:\n"
   ]
  },
  {
   "cell_type": "code",
   "execution_count": 87,
   "id": "4451d15b",
   "metadata": {},
   "outputs": [
    {
     "name": "stdout",
     "output_type": "stream",
     "text": [
      "Multiplication:\n",
      " [[ 7 16 27]\n",
      " [40 55 72]]\n"
     ]
    }
   ],
   "source": [
    "array1 = np.array([[1,2,3],[4,5,6]])\n",
    "array2 = np.array([[7,8,9],[10,11,12]])\n",
    "product_array = array1 * array2\n",
    "print(\"Multiplication:\\n\",product_array)"
   ]
  },
  {
   "cell_type": "code",
   "execution_count": 88,
   "id": "5d143b83",
   "metadata": {},
   "outputs": [
    {
     "name": "stdout",
     "output_type": "stream",
     "text": [
      "Multiplication:\n",
      " [[ 7 16 27]\n",
      " [28 40 54]]\n"
     ]
    }
   ],
   "source": [
    "array1 = np.array([[1,2,3],[4,5,6]])\n",
    "array2 = np.array([7,8,9])\n",
    "product_array = array1 * array2\n",
    "print(\"Multiplication:\\n\",product_array)"
   ]
  },
  {
   "cell_type": "markdown",
   "id": "7c74f66e",
   "metadata": {},
   "source": [
    "# MATRICS MULTIPLICATION:"
   ]
  },
  {
   "cell_type": "code",
   "execution_count": 89,
   "id": "ebe012e6",
   "metadata": {},
   "outputs": [
    {
     "data": {
      "text/plain": [
       "array([[8, 8],\n",
       "       [2, 4]])"
      ]
     },
     "execution_count": 89,
     "metadata": {},
     "output_type": "execute_result"
    }
   ],
   "source": [
    "x1= np.random.randint(0,10,(2,2))\n",
    "x2= np.random.randint(0,10,(2,2))\n",
    "x1"
   ]
  },
  {
   "cell_type": "code",
   "execution_count": 90,
   "id": "e4a75646",
   "metadata": {},
   "outputs": [
    {
     "data": {
      "text/plain": [
       "array([[7, 4],\n",
       "       [2, 5]])"
      ]
     },
     "execution_count": 90,
     "metadata": {},
     "output_type": "execute_result"
    }
   ],
   "source": [
    "x2"
   ]
  },
  {
   "cell_type": "code",
   "execution_count": 91,
   "id": "c032ff43",
   "metadata": {},
   "outputs": [
    {
     "data": {
      "text/plain": [
       "array([[72, 72],\n",
       "       [22, 28]])"
      ]
     },
     "execution_count": 91,
     "metadata": {},
     "output_type": "execute_result"
    }
   ],
   "source": [
    "np.dot(x1,x2)"
   ]
  },
  {
   "cell_type": "code",
   "execution_count": 92,
   "id": "4e88177b",
   "metadata": {},
   "outputs": [
    {
     "data": {
      "text/plain": [
       "array([[9, 1, 0],\n",
       "       [1, 1, 1]])"
      ]
     },
     "execution_count": 92,
     "metadata": {},
     "output_type": "execute_result"
    }
   ],
   "source": [
    "x1= np.random.randint(0,10,(2,3))\n",
    "x2= np.random.randint(0,10,(3,2))\n",
    "x1"
   ]
  },
  {
   "cell_type": "code",
   "execution_count": 93,
   "id": "dd02a2a4",
   "metadata": {},
   "outputs": [
    {
     "data": {
      "text/plain": [
       "array([[1, 4],\n",
       "       [8, 3],\n",
       "       [0, 7]])"
      ]
     },
     "execution_count": 93,
     "metadata": {},
     "output_type": "execute_result"
    }
   ],
   "source": [
    "x2"
   ]
  },
  {
   "cell_type": "markdown",
   "id": "0a8ddf0e",
   "metadata": {},
   "source": [
    "# BROADCASTING:\n"
   ]
  },
  {
   "cell_type": "code",
   "execution_count": 82,
   "id": "fa5286c6",
   "metadata": {},
   "outputs": [
    {
     "name": "stdout",
     "output_type": "stream",
     "text": [
      "Result of a+b with broadcasting:\n",
      " [[ 6  6]\n",
      " [11 12]]\n"
     ]
    }
   ],
   "source": [
    "import numpy as np\n",
    "a = np.array([[1,2],[6,8]])\n",
    "b = np.array([5,4])\n",
    "result = a+b\n",
    "print(\"Result of a+b with broadcasting:\\n\",result)"
   ]
  },
  {
   "cell_type": "markdown",
   "id": "c4254c2e",
   "metadata": {},
   "source": [
    "# STRING FUNCTION ON ARRAYS:"
   ]
  },
  {
   "cell_type": "code",
   "execution_count": 96,
   "id": "ff2e20a7",
   "metadata": {},
   "outputs": [
    {
     "data": {
      "text/plain": [
       "array(['1', '2', '3', 'data'], dtype='<U11')"
      ]
     },
     "execution_count": 96,
     "metadata": {},
     "output_type": "execute_result"
    }
   ],
   "source": [
    "x = np.array([1,2,3,'data'])\n",
    "x"
   ]
  },
  {
   "cell_type": "code",
   "execution_count": 97,
   "id": "cc22a493",
   "metadata": {},
   "outputs": [
    {
     "data": {
      "text/plain": [
       "array(['1', '2', '3', 'Data'], dtype='<U11')"
      ]
     },
     "execution_count": 97,
     "metadata": {},
     "output_type": "execute_result"
    }
   ],
   "source": [
    "np.char.capitalize(x)"
   ]
  },
  {
   "cell_type": "code",
   "execution_count": 99,
   "id": "ac5d4a52",
   "metadata": {},
   "outputs": [
    {
     "data": {
      "text/plain": [
       "array(['****1*****', '****2*****', '****3*****', '***data***'],\n",
       "      dtype='<U10')"
      ]
     },
     "execution_count": 99,
     "metadata": {},
     "output_type": "execute_result"
    }
   ],
   "source": [
    "np.char.center(x,10,fillchar='*')"
   ]
  },
  {
   "cell_type": "code",
   "execution_count": 100,
   "id": "c821d59e",
   "metadata": {},
   "outputs": [
    {
     "name": "stdout",
     "output_type": "stream",
     "text": [
      "['1' '2' '3' 'DATA']\n",
      "['1' '2' '3' 'data']\n",
      "['1' '2' '3' 'Data']\n"
     ]
    }
   ],
   "source": [
    "print(np.char.upper(x))\n",
    "print(np.char.lower(x))\n",
    "print(np.char.title(x))"
   ]
  },
  {
   "cell_type": "code",
   "execution_count": 101,
   "id": "a4803f3e",
   "metadata": {},
   "outputs": [
    {
     "data": {
      "text/plain": [
       "array([list(['Data Sci', 'nc', '']), list(['Machin', ' L', 'arning'])],\n",
       "      dtype=object)"
      ]
     },
     "execution_count": 101,
     "metadata": {},
     "output_type": "execute_result"
    }
   ],
   "source": [
    "y = np.array([\"Data Science\",\"Machine Learning\"])\n",
    "np.char.split(y,sep='e')"
   ]
  },
  {
   "cell_type": "code",
   "execution_count": 103,
   "id": "36265b39",
   "metadata": {},
   "outputs": [
    {
     "data": {
      "text/plain": [
       "array([2, 2])"
      ]
     },
     "execution_count": 103,
     "metadata": {},
     "output_type": "execute_result"
    }
   ],
   "source": [
    "np.char.count(y,\"a\")"
   ]
  },
  {
   "cell_type": "code",
   "execution_count": 104,
   "id": "c2b4fb4d",
   "metadata": {},
   "outputs": [
    {
     "data": {
      "text/plain": [
       "array([1, 2])"
      ]
     },
     "execution_count": 104,
     "metadata": {},
     "output_type": "execute_result"
    }
   ],
   "source": [
    "np.char.count(y,\"i\")"
   ]
  },
  {
   "cell_type": "code",
   "execution_count": 105,
   "id": "e381db26",
   "metadata": {},
   "outputs": [
    {
     "data": {
      "text/plain": [
       "array([ True, False])"
      ]
     },
     "execution_count": 105,
     "metadata": {},
     "output_type": "execute_result"
    }
   ],
   "source": [
    "np.char.startswith(y,\"D\")"
   ]
  },
  {
   "cell_type": "code",
   "execution_count": 106,
   "id": "ecfad959",
   "metadata": {},
   "outputs": [
    {
     "data": {
      "text/plain": [
       "array([False, False])"
      ]
     },
     "execution_count": 106,
     "metadata": {},
     "output_type": "execute_result"
    }
   ],
   "source": [
    "np.char.startswith(y,\"d\")"
   ]
  },
  {
   "cell_type": "code",
   "execution_count": 107,
   "id": "11f17c63",
   "metadata": {},
   "outputs": [
    {
     "data": {
      "text/plain": [
       "array(['Dxxxxxxxtxxxxxxx Science', 'Mxxxxxxxchine Lexxxxxxxrning'],\n",
       "      dtype='<U28')"
      ]
     },
     "execution_count": 107,
     "metadata": {},
     "output_type": "execute_result"
    }
   ],
   "source": [
    "np.char.replace(y,'a','xxxxxxx')"
   ]
  },
  {
   "cell_type": "code",
   "execution_count": 108,
   "id": "5a285efd",
   "metadata": {},
   "outputs": [
    {
     "data": {
      "text/plain": [
       "array(['********Data Science', '****Machine Learning'], dtype='<U20')"
      ]
     },
     "execution_count": 108,
     "metadata": {},
     "output_type": "execute_result"
    }
   ],
   "source": [
    "np.char.rjust(y,20,fillchar=\"*\")"
   ]
  },
  {
   "cell_type": "code",
   "execution_count": 109,
   "id": "f6debbdb",
   "metadata": {},
   "outputs": [
    {
     "data": {
      "text/plain": [
       "array(['Data Science********', 'Machine Learning****'], dtype='<U20')"
      ]
     },
     "execution_count": 109,
     "metadata": {},
     "output_type": "execute_result"
    }
   ],
   "source": [
    "np.char.ljust(y,20,fillchar=\"*\")"
   ]
  },
  {
   "cell_type": "markdown",
   "id": "e8f45c7e",
   "metadata": {},
   "source": [
    "# DIVISION:"
   ]
  },
  {
   "cell_type": "code",
   "execution_count": 110,
   "id": "a1897225",
   "metadata": {},
   "outputs": [
    {
     "name": "stdout",
     "output_type": "stream",
     "text": [
      "Division:\n",
      " [[ 3.33333333  5.          6.        ]\n",
      " [ 4.         10.         20.        ]]\n",
      "float64\n"
     ]
    }
   ],
   "source": [
    "array1 = np.array([[10,20,30],[40,50,60]])\n",
    "array2 = np.array([[3,4,5],[10,5,3]])\n",
    "division_array = array1/array2\n",
    "print(\"Division:\\n\",division_array)\n",
    "print(division_array.dtype)"
   ]
  },
  {
   "cell_type": "markdown",
   "id": "647bf390",
   "metadata": {},
   "source": [
    "# CALCULATING THE EXPONENTIAL:"
   ]
  },
  {
   "cell_type": "code",
   "execution_count": 111,
   "id": "6bcd0918",
   "metadata": {},
   "outputs": [
    {
     "name": "stdout",
     "output_type": "stream",
     "text": [
      "Original array: [1 2 3 4 5]\n",
      "Exponential of the array: [  2.71828183   7.3890561   20.08553692  54.59815003 148.4131591 ]\n"
     ]
    }
   ],
   "source": [
    "a = np.array([1,2,3,4,5])\n",
    "exp_a  = np.exp(a)\n",
    "print(\"Original array:\",a)\n",
    "print(\"Exponential of the array:\",exp_a)"
   ]
  },
  {
   "cell_type": "code",
   "execution_count": 112,
   "id": "610225be",
   "metadata": {},
   "outputs": [
    {
     "name": "stdout",
     "output_type": "stream",
     "text": [
      "sqrt of a: [1.41421356 2.         2.44948974]\n",
      "exp of a: [  7.3890561   54.59815003 403.42879349]\n",
      "sin of a: [ 0.90929743 -0.7568025  -0.2794155 ]\n",
      "cos of a: [-0.41614684 -0.65364362  0.96017029]\n",
      "log of a: [0.69314718 1.38629436 1.79175947]\n"
     ]
    }
   ],
   "source": [
    "a = np.array([2,4,6])\n",
    "print(\"sqrt of a:\", np.sqrt(a))\n",
    "print(\"exp of a:\", np.exp(a))\n",
    "print(\"sin of a:\", np.sin(a))\n",
    "print(\"cos of a:\", np.cos(a))\n",
    "print(\"log of a:\", np.log(a))"
   ]
  },
  {
   "cell_type": "markdown",
   "id": "6fc176a0",
   "metadata": {},
   "source": [
    "# AGGREGRATE FUNCTION:"
   ]
  },
  {
   "cell_type": "code",
   "execution_count": 113,
   "id": "8d1e4c02",
   "metadata": {},
   "outputs": [
    {
     "name": "stdout",
     "output_type": "stream",
     "text": [
      "Sum: 42\n",
      "Minimum Value: 1\n",
      "Mean Value: 5.25\n",
      "Median value: 5.5\n",
      "Corelation coefficient: 1.0\n",
      "Standard Deviation: 2.6339134382131846\n"
     ]
    }
   ],
   "source": [
    "a = np.array([1,2,4,5,6,7,8,9])\n",
    "print(\"Sum:\",np.sum(a))\n",
    "print(\"Minimum Value:\",np.min(a))\n",
    "print(\"Mean Value:\",np.mean(a))\n",
    "print(\"Median value:\",np.median(a))\n",
    "print(\"Corelation coefficient:\",np.corrcoef(a))\n",
    "print(\"Standard Deviation:\",np.std(a))"
   ]
  },
  {
   "cell_type": "markdown",
   "id": "08504f21",
   "metadata": {},
   "source": [
    "# CO-RELATION COEFFICIENT:"
   ]
  },
  {
   "cell_type": "code",
   "execution_count": 114,
   "id": "08d5e89c",
   "metadata": {},
   "outputs": [
    {
     "data": {
      "text/plain": [
       "array([[ 1.        , -0.08856149,  0.7130241 ,  0.18003601,  0.33287702],\n",
       "       [-0.08856149,  1.        , -0.73192505, -0.33128623, -0.94663828],\n",
       "       [ 0.7130241 , -0.73192505,  1.        ,  0.52904006,  0.89665306],\n",
       "       [ 0.18003601, -0.33128623,  0.52904006,  1.        ,  0.54084841],\n",
       "       [ 0.33287702, -0.94663828,  0.89665306,  0.54084841,  1.        ]])"
      ]
     },
     "execution_count": 114,
     "metadata": {},
     "output_type": "execute_result"
    }
   ],
   "source": [
    "np.corrcoef(data) "
   ]
  },
  {
   "cell_type": "code",
   "execution_count": null,
   "id": "39cb6235",
   "metadata": {},
   "outputs": [],
   "source": []
  }
 ],
 "metadata": {
  "kernelspec": {
   "display_name": "Python 3 (ipykernel)",
   "language": "python",
   "name": "python3"
  },
  "language_info": {
   "codemirror_mode": {
    "name": "ipython",
    "version": 3
   },
   "file_extension": ".py",
   "mimetype": "text/x-python",
   "name": "python",
   "nbconvert_exporter": "python",
   "pygments_lexer": "ipython3",
   "version": "3.9.12"
  }
 },
 "nbformat": 4,
 "nbformat_minor": 5
}
