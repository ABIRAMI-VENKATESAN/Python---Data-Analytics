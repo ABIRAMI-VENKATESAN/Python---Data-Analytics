{
 "cells": [
  {
   "cell_type": "markdown",
   "id": "d2508c13",
   "metadata": {},
   "source": [
    "# FUNCTIONS:"
   ]
  },
  {
   "cell_type": "code",
   "execution_count": 1,
   "id": "ee871b14",
   "metadata": {},
   "outputs": [
    {
     "name": "stdout",
     "output_type": "stream",
     "text": [
      "Hello world!\n"
     ]
    }
   ],
   "source": [
    "def greet():\n",
    "    print(\"Hello world!\")\n",
    "greet()"
   ]
  },
  {
   "cell_type": "code",
   "execution_count": 2,
   "id": "dba7e0e8",
   "metadata": {},
   "outputs": [
    {
     "name": "stdout",
     "output_type": "stream",
     "text": [
      "Good Morning,Coders!\n"
     ]
    }
   ],
   "source": [
    "def greet(arg):\n",
    "    print(f\"Good Morning,{arg}!\")\n",
    "greet(\"Coders\")"
   ]
  },
  {
   "cell_type": "code",
   "execution_count": 3,
   "id": "390dd5c1",
   "metadata": {},
   "outputs": [
    {
     "name": "stdout",
     "output_type": "stream",
     "text": [
      "Good Morning,Students!\n"
     ]
    }
   ],
   "source": [
    "greet(\"Students\")"
   ]
  },
  {
   "cell_type": "code",
   "execution_count": 4,
   "id": "87b393e0",
   "metadata": {},
   "outputs": [
    {
     "name": "stdout",
     "output_type": "stream",
     "text": [
      "15\n"
     ]
    }
   ],
   "source": [
    "def multiply(a,b):\n",
    "    return a*b\n",
    "result = multiply(3,5)\n",
    "print(result)"
   ]
  },
  {
   "cell_type": "code",
   "execution_count": 5,
   "id": "d0cc7f16",
   "metadata": {},
   "outputs": [
    {
     "data": {
      "text/plain": [
       "20"
      ]
     },
     "execution_count": 5,
     "metadata": {},
     "output_type": "execute_result"
    }
   ],
   "source": [
    "multiply(5,4)"
   ]
  },
  {
   "cell_type": "code",
   "execution_count": 7,
   "id": "e279d387",
   "metadata": {},
   "outputs": [
    {
     "name": "stdout",
     "output_type": "stream",
     "text": [
      "Hello,world!\n"
     ]
    }
   ],
   "source": [
    "def greet():\n",
    "    print(\"Hello,world!\")\n",
    "greet()"
   ]
  },
  {
   "cell_type": "markdown",
   "id": "fb7e003a",
   "metadata": {},
   "source": [
    "# RETURN STATEMENT:"
   ]
  },
  {
   "cell_type": "code",
   "execution_count": 9,
   "id": "c7d50ece",
   "metadata": {},
   "outputs": [
    {
     "name": "stdout",
     "output_type": "stream",
     "text": [
      "90\n"
     ]
    }
   ],
   "source": [
    "def multiply (a,b,c):\n",
    "    return a*b*c\n",
    "result = multiply(3,5,6)\n",
    "print(result)"
   ]
  },
  {
   "cell_type": "markdown",
   "id": "78f9cbc8",
   "metadata": {},
   "source": [
    "# ARBITARY ARGUMENTS:"
   ]
  },
  {
   "cell_type": "code",
   "execution_count": 10,
   "id": "278259ac",
   "metadata": {},
   "outputs": [
    {
     "name": "stdout",
     "output_type": "stream",
     "text": [
      "6\n",
      "22\n"
     ]
    }
   ],
   "source": [
    "def add (*args):\n",
    "    return sum(args)\n",
    "print(add(1,2,3))\n",
    "print(add(4,5,6,7))"
   ]
  },
  {
   "cell_type": "code",
   "execution_count": 17,
   "id": "20a4600f",
   "metadata": {},
   "outputs": [
    {
     "name": "stdout",
     "output_type": "stream",
     "text": [
      "20.0\n"
     ]
    }
   ],
   "source": [
    "def find_average(numbers):\n",
    "    return sum(numbers)/len(numbers)\n",
    "print (find_average([10,20,30]))"
   ]
  },
  {
   "cell_type": "code",
   "execution_count": 18,
   "id": "aaa54e18",
   "metadata": {},
   "outputs": [
    {
     "name": "stdout",
     "output_type": "stream",
     "text": [
      "name:Alice\n",
      "age:30\n",
      "city:new york\n"
     ]
    }
   ],
   "source": [
    "def print_details(**kwargs):\n",
    "    for key,value in kwargs.items():\n",
    "        print(f\"{key}:{value}\")\n",
    "print_details(name=\"Alice\",age=30,city=\"new york\")"
   ]
  },
  {
   "cell_type": "markdown",
   "id": "a6c0ee0b",
   "metadata": {},
   "source": [
    "# LAMBDA FUNCTION:"
   ]
  },
  {
   "cell_type": "code",
   "execution_count": 20,
   "id": "4a99ce8a",
   "metadata": {},
   "outputs": [
    {
     "name": "stdout",
     "output_type": "stream",
     "text": [
      "13\n"
     ]
    }
   ],
   "source": [
    "add = lambda a,b : a + b\n",
    "print(add(8,5))"
   ]
  },
  {
   "cell_type": "code",
   "execution_count": 21,
   "id": "cd7bfbcb",
   "metadata": {},
   "outputs": [
    {
     "name": "stdout",
     "output_type": "stream",
     "text": [
      "25\n"
     ]
    }
   ],
   "source": [
    "square = lambda a : a*a\n",
    "print (square(5))"
   ]
  },
  {
   "cell_type": "markdown",
   "id": "456849ec",
   "metadata": {},
   "source": [
    "# PYTHON ARRAY:"
   ]
  },
  {
   "cell_type": "code",
   "execution_count": 23,
   "id": "439e0f32",
   "metadata": {},
   "outputs": [
    {
     "name": "stdout",
     "output_type": "stream",
     "text": [
      "array('B', [1, 25, 3, 4, 5, 41, 5])\n"
     ]
    }
   ],
   "source": [
    "import array as arr\n",
    "arr = arr.array('B',[1,25,3,4,5,41,5])\n",
    "print(arr)"
   ]
  },
  {
   "cell_type": "code",
   "execution_count": 26,
   "id": "524e36cf",
   "metadata": {},
   "outputs": [
    {
     "name": "stdout",
     "output_type": "stream",
     "text": [
      "array('h', [-32746, -125, 3, 4, 5, 41, 5, 32127])\n"
     ]
    }
   ],
   "source": [
    "import array as arr\n",
    "arr = arr.array('h',[-32746,-125,3,4,5,41,5,32127])\n",
    "print(arr)"
   ]
  },
  {
   "cell_type": "code",
   "execution_count": 28,
   "id": "993dcd17",
   "metadata": {},
   "outputs": [
    {
     "name": "stdout",
     "output_type": "stream",
     "text": [
      "array('u', 'HELLO')\n"
     ]
    }
   ],
   "source": [
    "import array as arr\n",
    "arr = arr.array('u',['H','E','L','L','O'])\n",
    "print(arr)"
   ]
  },
  {
   "cell_type": "markdown",
   "id": "42082fb8",
   "metadata": {},
   "source": [
    "# FUNCTIONS IN SIMPLE ARRAY: "
   ]
  },
  {
   "cell_type": "markdown",
   "id": "0c479554",
   "metadata": {},
   "source": [
    "1.APPEND"
   ]
  },
  {
   "cell_type": "code",
   "execution_count": 29,
   "id": "012f899c",
   "metadata": {},
   "outputs": [
    {
     "name": "stdout",
     "output_type": "stream",
     "text": [
      "array('i', [1, 2, 3, 4, 5, 6, 26, 5])\n",
      "array('i', [1, 2, 3, 4, 5, 6, 26, 5, 8])\n"
     ]
    }
   ],
   "source": [
    "import array as arr\n",
    "arr = arr.array('i',[1,2,3,4,5,6,26,5])\n",
    "print(arr)\n",
    "arr.append(8)\n",
    "print(arr)"
   ]
  },
  {
   "cell_type": "markdown",
   "id": "843ba182",
   "metadata": {},
   "source": [
    "2.EXTEND"
   ]
  },
  {
   "cell_type": "code",
   "execution_count": 31,
   "id": "739244d8",
   "metadata": {},
   "outputs": [
    {
     "name": "stdout",
     "output_type": "stream",
     "text": [
      "array('i', [1, 2, 3, 4, 5, 6, 26, 5])\n",
      "array('i', [1, 2, 3, 4, 5, 6, 26, 5, 12, 14, 14])\n"
     ]
    }
   ],
   "source": [
    "import array as arr\n",
    "x = arr.array('i',[1,2,3,4,5,6,26,5])\n",
    "print(x)\n",
    "x.extend([12,14,14])\n",
    "print(x)"
   ]
  },
  {
   "cell_type": "markdown",
   "id": "533e46e4",
   "metadata": {},
   "source": [
    "3.INSERT"
   ]
  },
  {
   "cell_type": "code",
   "execution_count": 33,
   "id": "4c7a6355",
   "metadata": {},
   "outputs": [
    {
     "name": "stdout",
     "output_type": "stream",
     "text": [
      "array('i', [1, 2, 3, 4, 5, 6, 26, 5, 8, 12, 14, 14])\n",
      "array('i', [1, 2, 3, 4, 24, 5, 6, 26, 5, 8, 12, 14, 14])\n"
     ]
    }
   ],
   "source": [
    "import array as arr\n",
    "x = arr.array('i',[1,2,3,4,5,6,26,5,8,12,14,14])\n",
    "print(x)\n",
    "x.insert(4,24)\n",
    "print(x)"
   ]
  },
  {
   "cell_type": "markdown",
   "id": "604ca5ec",
   "metadata": {},
   "source": [
    "4.POP"
   ]
  },
  {
   "cell_type": "code",
   "execution_count": 34,
   "id": "67641dc9",
   "metadata": {},
   "outputs": [
    {
     "name": "stdout",
     "output_type": "stream",
     "text": [
      "array('i', [1, 2, 3, 4, 5, 6, 26, 5])\n",
      "array('i', [1, 2, 3, 4, 5, 6, 26])\n",
      "array('i', [1, 2, 4, 5, 6, 26])\n"
     ]
    }
   ],
   "source": [
    "import array as arr\n",
    "x = arr.array('i',[1,2,3,4,5,6,26,5])\n",
    "print(x)\n",
    "x.pop( )\n",
    "print(x)\n",
    "x.pop(2)\n",
    "print(x)"
   ]
  },
  {
   "cell_type": "markdown",
   "id": "281d5930",
   "metadata": {},
   "source": [
    "5.REMOVE"
   ]
  },
  {
   "cell_type": "code",
   "execution_count": 36,
   "id": "90810ac8",
   "metadata": {},
   "outputs": [
    {
     "name": "stdout",
     "output_type": "stream",
     "text": [
      "array('i', [1, 2, 3, 4, 5, 6, 26, 5])\n",
      "array('i', [1, 2, 3, 4, 6, 26, 5])\n"
     ]
    }
   ],
   "source": [
    "import array as arr\n",
    "x = arr.array('i',[1,2,3,4,5,6,26,5])\n",
    "print(x)\n",
    "x.remove(5)\n",
    "print(x)"
   ]
  },
  {
   "cell_type": "code",
   "execution_count": 46,
   "id": "6cf56ffb",
   "metadata": {},
   "outputs": [
    {
     "name": "stdout",
     "output_type": "stream",
     "text": [
      "original array: array('i', [1, 2, 3, 4, 5, 6, 26, 5])\n",
      "Array after removing second occurence of 5: <module 'array' (built-in)>\n"
     ]
    }
   ],
   "source": [
    "import array as arr\n",
    "x = arr.array('i',[1,2,3,4,5,6,26,5])\n",
    "print(\"original array:\",x)\n",
    "def remove_second_occurence(array,value):\n",
    "    count = 0\n",
    "    for i in range(len(array)):\n",
    "        if array[i] == value:\n",
    "            count+=1\n",
    "            if count == 2:\n",
    "                array.pop(i)\n",
    "                break\n",
    "remove_second_occurence(x,5)\n",
    "print(\"Array after removing second occurence of 5:\",arr)"
   ]
  },
  {
   "cell_type": "markdown",
   "id": "9ee27143",
   "metadata": {},
   "source": [
    "6.COUNT"
   ]
  },
  {
   "cell_type": "code",
   "execution_count": 49,
   "id": "16eb85b8",
   "metadata": {},
   "outputs": [
    {
     "name": "stdout",
     "output_type": "stream",
     "text": [
      "array('i', [1, 2, 3, 4, 5, 6, 26, 5, 4, 4, 4])\n",
      "4\n"
     ]
    }
   ],
   "source": [
    "import array as arr\n",
    "x = arr.array('i',[1,2,3,4,5,6,26,5,4,4,4])\n",
    "print(x)\n",
    "print(x.count(4))"
   ]
  },
  {
   "cell_type": "markdown",
   "id": "924a9ce0",
   "metadata": {},
   "source": [
    "7.REVERSE"
   ]
  },
  {
   "cell_type": "code",
   "execution_count": 50,
   "id": "0532fb96",
   "metadata": {},
   "outputs": [
    {
     "name": "stdout",
     "output_type": "stream",
     "text": [
      "array('i', [1, 2, 3, 4, 5, 6, 26, 5])\n",
      "array('i', [5, 26, 6, 5, 4, 3, 2, 1])\n"
     ]
    }
   ],
   "source": [
    "import array as arr\n",
    "x = arr.array('i',[1,2,3,4,5,6,26,5])\n",
    "print(x)\n",
    "x.reverse()\n",
    "print(x)"
   ]
  },
  {
   "cell_type": "markdown",
   "id": "aaded241",
   "metadata": {},
   "source": [
    "8.BUFFER_INFO"
   ]
  },
  {
   "cell_type": "code",
   "execution_count": 51,
   "id": "5c473caa",
   "metadata": {},
   "outputs": [
    {
     "name": "stdout",
     "output_type": "stream",
     "text": [
      "array('i', [1, 2, 3, 4, 5, 6, 26, 5])\n",
      "(1881000584432, 8)\n"
     ]
    }
   ],
   "source": [
    "import array as arr\n",
    "x = arr.array('i',[1,2,3,4,5,6,26,5])\n",
    "print(x)\n",
    "print(x.buffer_info())"
   ]
  },
  {
   "cell_type": "markdown",
   "id": "5bce3197",
   "metadata": {},
   "source": [
    "9. TO LIST"
   ]
  },
  {
   "cell_type": "code",
   "execution_count": null,
   "id": "64f09703",
   "metadata": {},
   "outputs": [],
   "source": [
    "import array as arr\n",
    "x = arr.array('i',[1,2,3,4,5,6,26])\n",
    "print(x)\n",
    "print(x"
   ]
  }
 ],
 "metadata": {
  "kernelspec": {
   "display_name": "Python 3 (ipykernel)",
   "language": "python",
   "name": "python3"
  },
  "language_info": {
   "codemirror_mode": {
    "name": "ipython",
    "version": 3
   },
   "file_extension": ".py",
   "mimetype": "text/x-python",
   "name": "python",
   "nbconvert_exporter": "python",
   "pygments_lexer": "ipython3",
   "version": "3.9.12"
  }
 },
 "nbformat": 4,
 "nbformat_minor": 5
}
