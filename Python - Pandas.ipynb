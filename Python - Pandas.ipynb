{
 "cells": [
  {
   "cell_type": "markdown",
   "id": "14f84ba2",
   "metadata": {},
   "source": [
    "# PANDAS - DATA MANIPULATION"
   ]
  },
  {
   "cell_type": "code",
   "execution_count": 3,
   "id": "37291bfd",
   "metadata": {},
   "outputs": [
    {
     "name": "stdout",
     "output_type": "stream",
     "text": [
      "[1, 2, 3, 4]\n",
      "0    1\n",
      "1    2\n",
      "2    3\n",
      "3    4\n",
      "dtype: int64\n"
     ]
    }
   ],
   "source": [
    "import pandas as pd\n",
    "data = [1,2,3,4]\n",
    "print(data)\n",
    "series = pd.Series(data)\n",
    "print(series)"
   ]
  },
  {
   "cell_type": "markdown",
   "id": "abc6fd5c",
   "metadata": {},
   "source": [
    "# TO CHANGE THE INDEX NAME:"
   ]
  },
  {
   "cell_type": "code",
   "execution_count": 6,
   "id": "05716aa6",
   "metadata": {},
   "outputs": [
    {
     "data": {
      "text/plain": [
       "a    1\n",
       "b    2\n",
       "c    3\n",
       "d    4\n",
       "dtype: int64"
      ]
     },
     "execution_count": 6,
     "metadata": {},
     "output_type": "execute_result"
    }
   ],
   "source": [
    "import pandas as pd\n",
    "List = pd.Series([1,2,3,4],index=['a','b','c','d'])\n",
    "List"
   ]
  },
  {
   "cell_type": "code",
   "execution_count": 7,
   "id": "31b979d8",
   "metadata": {},
   "outputs": [
    {
     "data": {
      "text/plain": [
       "1    1\n",
       "2    2\n",
       "3    3\n",
       "4    4\n",
       "dtype: int64"
      ]
     },
     "execution_count": 7,
     "metadata": {},
     "output_type": "execute_result"
    }
   ],
   "source": [
    "List = pd.Series([1,2,3,4],index=[1,2,3,4])\n",
    "List"
   ]
  },
  {
   "cell_type": "markdown",
   "id": "cce90fe8",
   "metadata": {},
   "source": [
    "# CREATING DATA FRAME USING A LIST:"
   ]
  },
  {
   "cell_type": "code",
   "execution_count": 9,
   "id": "bef10888",
   "metadata": {},
   "outputs": [
    {
     "data": {
      "text/html": [
       "<div>\n",
       "<style scoped>\n",
       "    .dataframe tbody tr th:only-of-type {\n",
       "        vertical-align: middle;\n",
       "    }\n",
       "\n",
       "    .dataframe tbody tr th {\n",
       "        vertical-align: top;\n",
       "    }\n",
       "\n",
       "    .dataframe thead th {\n",
       "        text-align: right;\n",
       "    }\n",
       "</style>\n",
       "<table border=\"1\" class=\"dataframe\">\n",
       "  <thead>\n",
       "    <tr style=\"text-align: right;\">\n",
       "      <th></th>\n",
       "      <th>0</th>\n",
       "    </tr>\n",
       "  </thead>\n",
       "  <tbody>\n",
       "    <tr>\n",
       "      <th>0</th>\n",
       "      <td>1</td>\n",
       "    </tr>\n",
       "    <tr>\n",
       "      <th>1</th>\n",
       "      <td>2</td>\n",
       "    </tr>\n",
       "    <tr>\n",
       "      <th>2</th>\n",
       "      <td>3</td>\n",
       "    </tr>\n",
       "    <tr>\n",
       "      <th>3</th>\n",
       "      <td>4</td>\n",
       "    </tr>\n",
       "    <tr>\n",
       "      <th>4</th>\n",
       "      <td>5</td>\n",
       "    </tr>\n",
       "  </tbody>\n",
       "</table>\n",
       "</div>"
      ],
      "text/plain": [
       "   0\n",
       "0  1\n",
       "1  2\n",
       "2  3\n",
       "3  4\n",
       "4  5"
      ]
     },
     "execution_count": 9,
     "metadata": {},
     "output_type": "execute_result"
    }
   ],
   "source": [
    "import pandas as pd\n",
    "data = [1,2,3,4,5]\n",
    "df = pd.DataFrame(data)\n",
    "df"
   ]
  },
  {
   "cell_type": "markdown",
   "id": "bc628178",
   "metadata": {},
   "source": [
    "# CREATING DATA FRAME USING SERIES:"
   ]
  },
  {
   "cell_type": "code",
   "execution_count": 11,
   "id": "9ab14863",
   "metadata": {},
   "outputs": [
    {
     "name": "stdout",
     "output_type": "stream",
     "text": [
      "a    4\n",
      "b    5\n",
      "dtype: int64\n",
      "   0\n",
      "a  4\n",
      "b  5\n"
     ]
    },
    {
     "data": {
      "text/plain": [
       "pandas.core.frame.DataFrame"
      ]
     },
     "execution_count": 11,
     "metadata": {},
     "output_type": "execute_result"
    }
   ],
   "source": [
    "Series = pd.Series([4,5],index = [\"a\",\"b\"])\n",
    "print(Series)\n",
    "type(Series)\n",
    "df = pd.DataFrame(Series)\n",
    "print(df)\n",
    "type(df)"
   ]
  },
  {
   "cell_type": "markdown",
   "id": "7da0673a",
   "metadata": {},
   "source": [
    "# .."
   ]
  },
  {
   "cell_type": "code",
   "execution_count": 14,
   "id": "c2da2a0d",
   "metadata": {},
   "outputs": [
    {
     "name": "stdout",
     "output_type": "stream",
     "text": [
      "   x1  x2  x2\n",
      "0   6   8   4\n",
      "1   1   2   2\n",
      "2   7   1   4\n"
     ]
    }
   ],
   "source": [
    "import numpy as np\n",
    "import pandas as pd\n",
    "df = pd.DataFrame(np.random. randint(0,10,(3,3)),columns = ['x1','x2','x2'])\n",
    "print(df)"
   ]
  },
  {
   "cell_type": "code",
   "execution_count": 16,
   "id": "6d4a192f",
   "metadata": {},
   "outputs": [
    {
     "name": "stdout",
     "output_type": "stream",
     "text": [
      "    Name Salary\n",
      "0   John   5000\n",
      "1  James   6000\n"
     ]
    }
   ],
   "source": [
    "import numpy as np\n",
    "import pandas as pd\n",
    "array = np.array([[5000,6000],[\"John\",\"James\"]])\n",
    "df = pd.DataFrame({\"Name\":array[1],\"Salary\":array[0]})\n",
    "print(df)"
   ]
  },
  {
   "cell_type": "markdown",
   "id": "412754f1",
   "metadata": {},
   "source": [
    "# CONCATINATION:"
   ]
  },
  {
   "cell_type": "markdown",
   "id": "cbcb21f0",
   "metadata": {},
   "source": [
    "Concatination Along Rows(Axis 0)\n"
   ]
  },
  {
   "cell_type": "code",
   "execution_count": 20,
   "id": "4f3f3a92",
   "metadata": {},
   "outputs": [
    {
     "name": "stdout",
     "output_type": "stream",
     "text": [
      "    A   B\n",
      "0  A0  B0\n",
      "1  A1  B1\n",
      "2  A2  B2\n",
      "    A   B\n",
      "0  A3  B3\n",
      "1  A4  B4\n",
      "2  A5  B5\n",
      "    A   B\n",
      "0  A0  B0\n",
      "1  A1  B1\n",
      "2  A2  B2\n",
      "0  A3  B3\n",
      "1  A4  B4\n",
      "2  A5  B5\n"
     ]
    }
   ],
   "source": [
    "Concatination Along Rows(Axis 0)\n",
    "import pandas as pd\n",
    "df1 = pd.DataFrame({'A':['A0','A1','A2',],\n",
    "                   'B':['B0','B1','B2']})\n",
    "print(df1)\n",
    "df2 = pd.DataFrame({'A':['A3','A4','A5',],\n",
    "                   'B':['B3','B4','B5']})\n",
    "print(df2)\n",
    "result = pd.concat([df1,df2])\n",
    "print(result)"
   ]
  },
  {
   "cell_type": "markdown",
   "id": "7e58d739",
   "metadata": {},
   "source": [
    "Concatination Along Rows(Axis 1)\n"
   ]
  },
  {
   "cell_type": "code",
   "execution_count": 21,
   "id": "8d9e029e",
   "metadata": {},
   "outputs": [
    {
     "name": "stdout",
     "output_type": "stream",
     "text": [
      "    A   B   A   B\n",
      "0  A0  B0  A3  B3\n",
      "1  A1  B1  A4  B4\n",
      "2  A2  B2  A5  B5\n"
     ]
    }
   ],
   "source": [
    "result = pd.concat([df1,df2],axis=1)\n",
    "print(result)"
   ]
  },
  {
   "cell_type": "code",
   "execution_count": 22,
   "id": "4b45d281",
   "metadata": {},
   "outputs": [
    {
     "name": "stdout",
     "output_type": "stream",
     "text": [
      "    A   B\n",
      "0  A0  B0\n",
      "1  A1  B1\n",
      "2  A2  B2\n",
      "3  A3  B3\n",
      "4  A4  B4\n",
      "5  A5  B5\n"
     ]
    }
   ],
   "source": [
    "result = pd.concat([df1,df2],ignore_index=True)\n",
    "print(result)"
   ]
  },
  {
   "cell_type": "markdown",
   "id": "e898f1e0",
   "metadata": {},
   "source": [
    "# MERGE:"
   ]
  },
  {
   "cell_type": "markdown",
   "id": "bbc07f4b",
   "metadata": {},
   "source": [
    "INNER MERGE:"
   ]
  },
  {
   "cell_type": "code",
   "execution_count": 24,
   "id": "2d3845b7",
   "metadata": {},
   "outputs": [
    {
     "name": "stdout",
     "output_type": "stream",
     "text": [
      "  Key  Value\n",
      "0   A      1\n",
      "1   B      2\n",
      "2   C      3\n",
      "3   D      4\n",
      "  Key  Value\n",
      "0   B      5\n",
      "1   D      6\n",
      "2   E      7\n",
      "3   F      8\n",
      "  Key  Value_x  Value_y\n",
      "0   B        2        5\n",
      "1   D        4        6\n"
     ]
    }
   ],
   "source": [
    "df1 = pd.DataFrame({\n",
    "    'Key':['A','B','C','D'],\n",
    "    'Value':[1,2,3,4]\n",
    "})\n",
    "print(df1)\n",
    "df2 = pd.DataFrame({\n",
    "    'Key':['B','D','E','F'],\n",
    "    'Value':[5,6,7,8]\n",
    "})\n",
    "print(df2)\n",
    "result = pd.merge(df1,df2,on='Key',how='inner')\n",
    "print(result)"
   ]
  },
  {
   "cell_type": "markdown",
   "id": "5890a8ff",
   "metadata": {},
   "source": [
    "RIGHT MERGE"
   ]
  },
  {
   "cell_type": "code",
   "execution_count": 28,
   "id": "dbc3577e",
   "metadata": {},
   "outputs": [
    {
     "name": "stdout",
     "output_type": "stream",
     "text": [
      "  Key  Value\n",
      "0   A      1\n",
      "1   B      2\n",
      "2   C      3\n",
      "3   D      4\n",
      "  Key  Value\n",
      "0   B      5\n",
      "1   D      6\n",
      "2   E      7\n",
      "3   F      8\n",
      "  Key  Value_x  Value_y\n",
      "0   B      2.0        5\n",
      "1   D      4.0        6\n",
      "2   E      NaN        7\n",
      "3   F      NaN        8\n"
     ]
    }
   ],
   "source": [
    "df1 = pd.DataFrame({\n",
    "    'Key':['A','B','C','D'],\n",
    "    'Value':[1,2,3,4]\n",
    "})\n",
    "print(df1)\n",
    "df2 = pd.DataFrame({\n",
    "    'Key':['B','D','E','F'],\n",
    "    'Value':[5,6,7,8]\n",
    "})\n",
    "print(df2)\n",
    "result = pd.merge(df1,df2,on='Key',how='right')\n",
    "print(result)"
   ]
  },
  {
   "cell_type": "markdown",
   "id": "6fe490b0",
   "metadata": {},
   "source": [
    "LEFT MERGE"
   ]
  },
  {
   "cell_type": "code",
   "execution_count": 29,
   "id": "30d3d35a",
   "metadata": {},
   "outputs": [
    {
     "name": "stdout",
     "output_type": "stream",
     "text": [
      "  Key  Value\n",
      "0   A      1\n",
      "1   B      2\n",
      "2   C      3\n",
      "3   D      4\n",
      "  Key  Value\n",
      "0   B      5\n",
      "1   D      6\n",
      "2   E      7\n",
      "3   F      8\n",
      "  Key  Value_x  Value_y\n",
      "0   A        1      NaN\n",
      "1   B        2      5.0\n",
      "2   C        3      NaN\n",
      "3   D        4      6.0\n"
     ]
    }
   ],
   "source": [
    "df1 = pd.DataFrame({\n",
    "    'Key':['A','B','C','D'],\n",
    "    'Value':[1,2,3,4]\n",
    "})\n",
    "print(df1)\n",
    "df2 = pd.DataFrame({\n",
    "    'Key':['B','D','E','F'],\n",
    "    'Value':[5,6,7,8]\n",
    "})\n",
    "print(df2)\n",
    "result = pd.merge(df1,df2,on='Key',how='left')\n",
    "print(result)"
   ]
  },
  {
   "cell_type": "markdown",
   "id": "2c8d7075",
   "metadata": {},
   "source": [
    "OUTER MERGE"
   ]
  },
  {
   "cell_type": "code",
   "execution_count": 30,
   "id": "468f0eb3",
   "metadata": {},
   "outputs": [
    {
     "name": "stdout",
     "output_type": "stream",
     "text": [
      "  Key  Value\n",
      "0   A      1\n",
      "1   B      2\n",
      "2   C      3\n",
      "3   D      4\n",
      "  Key  Value\n",
      "0   B      5\n",
      "1   D      6\n",
      "2   E      7\n",
      "3   F      8\n",
      "  Key  Value_x  Value_y\n",
      "0   A      1.0      NaN\n",
      "1   B      2.0      5.0\n",
      "2   C      3.0      NaN\n",
      "3   D      4.0      6.0\n",
      "4   E      NaN      7.0\n",
      "5   F      NaN      8.0\n"
     ]
    }
   ],
   "source": [
    "df1 = pd.DataFrame({\n",
    "    'Key':['A','B','C','D'],\n",
    "    'Value':[1,2,3,4]\n",
    "})\n",
    "print(df1)\n",
    "df2 = pd.DataFrame({\n",
    "    'Key':['B','D','E','F'],\n",
    "    'Value':[5,6,7,8]\n",
    "})\n",
    "print(df2)\n",
    "result = pd.merge(df1,df2,on='Key',how='outer')\n",
    "print(result)"
   ]
  },
  {
   "cell_type": "code",
   "execution_count": null,
   "id": "1b1b31d0",
   "metadata": {},
   "outputs": [],
   "source": []
  }
 ],
 "metadata": {
  "kernelspec": {
   "display_name": "Python 3 (ipykernel)",
   "language": "python",
   "name": "python3"
  },
  "language_info": {
   "codemirror_mode": {
    "name": "ipython",
    "version": 3
   },
   "file_extension": ".py",
   "mimetype": "text/x-python",
   "name": "python",
   "nbconvert_exporter": "python",
   "pygments_lexer": "ipython3",
   "version": "3.9.12"
  }
 },
 "nbformat": 4,
 "nbformat_minor": 5
}
