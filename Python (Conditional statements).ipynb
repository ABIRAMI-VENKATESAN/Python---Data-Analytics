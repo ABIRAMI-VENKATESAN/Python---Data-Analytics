{
 "cells": [
  {
   "cell_type": "markdown",
   "id": "4cf9641d",
   "metadata": {},
   "source": [
    "# CONDITIONAL STATEMENT:"
   ]
  },
  {
   "cell_type": "markdown",
   "id": "d532c63f",
   "metadata": {},
   "source": [
    "# IF STATEMENT:\n"
   ]
  },
  {
   "cell_type": "code",
   "execution_count": 1,
   "id": "961adb32",
   "metadata": {},
   "outputs": [],
   "source": [
    "Tomato = 15\n",
    "if(Tomato <= 10):\n",
    "    print(\"Bring 1kg of Tomato\")"
   ]
  },
  {
   "cell_type": "code",
   "execution_count": 2,
   "id": "fabc537e",
   "metadata": {},
   "outputs": [
    {
     "name": "stdout",
     "output_type": "stream",
     "text": [
      "Bring 1kg of Tomato\n"
     ]
    }
   ],
   "source": [
    "Tomato = 15\n",
    "if(Tomato <= 20):\n",
    "    print(\"Bring 1kg of Tomato\")"
   ]
  },
  {
   "cell_type": "code",
   "execution_count": 3,
   "id": "6b53027a",
   "metadata": {},
   "outputs": [],
   "source": [
    "a = 33\n",
    "b = 200\n",
    "if(a>b):\n",
    "    print(\"a is greater than b\" )"
   ]
  },
  {
   "cell_type": "code",
   "execution_count": 4,
   "id": "c92b5f99",
   "metadata": {},
   "outputs": [
    {
     "name": "stdout",
     "output_type": "stream",
     "text": [
      "Data Science\n"
     ]
    }
   ],
   "source": [
    "x = 9\n",
    "if (x<10):\n",
    "    print(\"Data Science\")"
   ]
  },
  {
   "cell_type": "code",
   "execution_count": 5,
   "id": "917ef7ba",
   "metadata": {},
   "outputs": [
    {
     "name": "stdout",
     "output_type": "stream",
     "text": [
      "Data Science\n"
     ]
    }
   ],
   "source": [
    "if True:\n",
    "    print(\"Data Science\")"
   ]
  },
  {
   "cell_type": "code",
   "execution_count": 6,
   "id": "90205224",
   "metadata": {},
   "outputs": [],
   "source": [
    "if 0:\n",
    "    print(\"Data Science\")"
   ]
  },
  {
   "cell_type": "code",
   "execution_count": 7,
   "id": "b9ef608d",
   "metadata": {},
   "outputs": [
    {
     "name": "stdout",
     "output_type": "stream",
     "text": [
      "Data Science\n"
     ]
    }
   ],
   "source": [
    "if 1:\n",
    "    print(\"Data Science\")"
   ]
  },
  {
   "cell_type": "code",
   "execution_count": 8,
   "id": "a78cc996",
   "metadata": {},
   "outputs": [
    {
     "name": "stdout",
     "output_type": "stream",
     "text": [
      "Data Science\n"
     ]
    }
   ],
   "source": [
    "x = 10\n",
    "if (x%2==0):\n",
    "    print(\"Data Science\")"
   ]
  },
  {
   "cell_type": "code",
   "execution_count": 9,
   "id": "77a0c87c",
   "metadata": {},
   "outputs": [
    {
     "name": "stdout",
     "output_type": "stream",
     "text": [
      "Data Science\n"
     ]
    }
   ],
   "source": [
    "x = 11\n",
    "if (x//2==5):\n",
    "    print(\"Data Science\")"
   ]
  },
  {
   "cell_type": "code",
   "execution_count": 10,
   "id": "0bad8cc8",
   "metadata": {},
   "outputs": [
    {
     "name": "stdout",
     "output_type": "stream",
     "text": [
      "4\n"
     ]
    }
   ],
   "source": [
    "x = int(input())\n",
    "if not((x%2==0) and (x<10)):\n",
    "    print(\"Data Science\")"
   ]
  },
  {
   "cell_type": "markdown",
   "id": "7e1b025d",
   "metadata": {},
   "source": [
    "# IF ELSE STATEMENT"
   ]
  },
  {
   "cell_type": "code",
   "execution_count": 11,
   "id": "bc82d76a",
   "metadata": {},
   "outputs": [
    {
     "name": "stdout",
     "output_type": "stream",
     "text": [
      "X is not greater than 5\n"
     ]
    }
   ],
   "source": [
    "x = 3\n",
    "if x>5:\n",
    "    print(\"X is greater than 5\")\n",
    "else:\n",
    "    print(\"X is not greater than 5\")"
   ]
  },
  {
   "cell_type": "code",
   "execution_count": 12,
   "id": "63b22a42",
   "metadata": {},
   "outputs": [
    {
     "name": "stdout",
     "output_type": "stream",
     "text": [
      "Science\n"
     ]
    }
   ],
   "source": [
    "x = \"Data Science\"\n",
    "if \"dxt\" in x:\n",
    "    print(\"Data\")\n",
    "else:\n",
    "    print(\"Science\")"
   ]
  },
  {
   "cell_type": "code",
   "execution_count": 13,
   "id": "8f02cc8d",
   "metadata": {},
   "outputs": [
    {
     "name": "stdout",
     "output_type": "stream",
     "text": [
      "Science\n"
     ]
    }
   ],
   "source": [
    "x = \"Data Science\"\n",
    "if \"cie\" not in x:\n",
    "    print(\"Data\")\n",
    "else:\n",
    "    print(\"Science\")"
   ]
  },
  {
   "cell_type": "code",
   "execution_count": 14,
   "id": "9c7e0a19",
   "metadata": {},
   "outputs": [
    {
     "name": "stdout",
     "output_type": "stream",
     "text": [
      "Data\n"
     ]
    }
   ],
   "source": [
    "x = \"Data Science\"\n",
    "if \"cie\" in x:\n",
    "    print(\"Data\")\n",
    "else:\n",
    "    print(\"Science\")"
   ]
  },
  {
   "cell_type": "markdown",
   "id": "2c34c68c",
   "metadata": {},
   "source": [
    "# IF ELIF STATEMENT"
   ]
  },
  {
   "cell_type": "code",
   "execution_count": 15,
   "id": "e3215642",
   "metadata": {},
   "outputs": [
    {
     "name": "stdout",
     "output_type": "stream",
     "text": [
      "Tomatoes cost per kg:\n",
      "5\n",
      "Bring 5kg of tomatoes\n"
     ]
    }
   ],
   "source": [
    "Tomato = int(input(\"Tomatoes cost per kg:\\n\"))\n",
    "if Tomato<40:\n",
    "    print(\"Bring 5kg of tomatoes\")\n",
    "elif Tomato <= 50:\n",
    "    print(\"Bring 2kg of tomatoes\")\n",
    "else:\n",
    "    print(\"Bring 1/2 of tomatoes\")"
   ]
  },
  {
   "cell_type": "markdown",
   "id": "5976abf1",
   "metadata": {},
   "source": [
    "# NESTED IF STATEMENT:"
   ]
  },
  {
   "cell_type": "code",
   "execution_count": 16,
   "id": "813d7c9e",
   "metadata": {},
   "outputs": [
    {
     "name": "stdout",
     "output_type": "stream",
     "text": [
      "5\n",
      "you are not allowed\n"
     ]
    }
   ],
   "source": [
    "age = int(input())\n",
    "has_permission = True\n",
    "if age >= 18:\n",
    "    if has_permission:\n",
    "        print(\"Allowed\")\n",
    "    else:\n",
    "        print(\"Not Allowed\")\n",
    "else:\n",
    "    if age>=13:\n",
    "        print(\"Allowed with Guardian\")\n",
    "    else:\n",
    "        print(\"you are not allowed\")"
   ]
  },
  {
   "cell_type": "code",
   "execution_count": 17,
   "id": "5ec93577",
   "metadata": {},
   "outputs": [
    {
     "name": "stdout",
     "output_type": "stream",
     "text": [
      "7\n",
      "Fail\n"
     ]
    }
   ],
   "source": [
    "marks = int(input())\n",
    "if marks<35:\n",
    "    print(\"Fail\")\n",
    "elif marks<35 and marks<50:\n",
    "    print(\"Grade C\")\n",
    "elif marks<50 and marks<75:\n",
    "    print(\"Grade B\")\n",
    "elif marks<75 and marks<90:\n",
    "    print(\"Grade A\")\n",
    "else:\n",
    "    print(\"Grade A+\")"
   ]
  },
  {
   "cell_type": "code",
   "execution_count": 18,
   "id": "08b2eacf",
   "metadata": {},
   "outputs": [
    {
     "name": "stdout",
     "output_type": "stream",
     "text": [
      "Enter a value for a:\n",
      "6\n",
      "Enter a value for b:\n",
      "5\n"
     ]
    }
   ],
   "source": [
    "a = int(input(\"Enter a value for a:\\n\"))\n",
    "b = int(input(\"Enter a value for b:\\n\"))\n",
    "if b>a :\n",
    "    print(\"b is greater than a\")\n",
    "elif a==b:\n",
    "    print(\"a is greater than b\")"
   ]
  },
  {
   "cell_type": "code",
   "execution_count": 19,
   "id": "5026a435",
   "metadata": {},
   "outputs": [
    {
     "name": "stdout",
     "output_type": "stream",
     "text": [
      "Enter a value for x:\n",
      "4\n",
      "X is 10 or less\n"
     ]
    }
   ],
   "source": [
    "x = int(input(\"Enter a value for x:\\n\"))\n",
    "if x>10:\n",
    "    print(\"X is greater than 10\")\n",
    "    if x>20:\n",
    "        print(\"X is also greater than 20\")\n",
    "    else:\n",
    "        print(\"X is not greater than 20\")\n",
    "else:\n",
    "    print(\"X is 10 or less\")"
   ]
  },
  {
   "cell_type": "markdown",
   "id": "38d3a5e2",
   "metadata": {},
   "source": [
    "# FOR LOOP"
   ]
  },
  {
   "cell_type": "code",
   "execution_count": 20,
   "id": "4573db1a",
   "metadata": {},
   "outputs": [
    {
     "name": "stdout",
     "output_type": "stream",
     "text": [
      "A\n",
      "p\n",
      "p\n",
      "l\n",
      "e\n"
     ]
    }
   ],
   "source": [
    "for i in \"Apple\":\n",
    "    print(i)"
   ]
  },
  {
   "cell_type": "code",
   "execution_count": 21,
   "id": "85de4115",
   "metadata": {},
   "outputs": [
    {
     "name": "stdout",
     "output_type": "stream",
     "text": [
      "0\n",
      "1\n",
      "2\n",
      "3\n",
      "4\n"
     ]
    }
   ],
   "source": [
    "for i in range(5):\n",
    "    print(i)"
   ]
  },
  {
   "cell_type": "code",
   "execution_count": 22,
   "id": "98ce5f2e",
   "metadata": {},
   "outputs": [
    {
     "name": "stdout",
     "output_type": "stream",
     "text": [
      "0\n",
      "1\n",
      "2\n",
      "3\n",
      "4\n",
      "5\n",
      "6\n",
      "7\n",
      "8\n",
      "9\n",
      "10\n"
     ]
    }
   ],
   "source": [
    "for i in range(11):\n",
    "    print(i)"
   ]
  },
  {
   "cell_type": "code",
   "execution_count": 23,
   "id": "e73b6b9e",
   "metadata": {},
   "outputs": [
    {
     "name": "stdout",
     "output_type": "stream",
     "text": [
      "0\n",
      "1\n",
      "2\n",
      "3\n",
      "4\n",
      "5\n",
      "6\n",
      "7\n",
      "8\n",
      "9\n"
     ]
    }
   ],
   "source": [
    "x = 10\n",
    "for i in range(x):\n",
    "    print(i)"
   ]
  },
  {
   "cell_type": "code",
   "execution_count": 24,
   "id": "613fd2da",
   "metadata": {},
   "outputs": [
    {
     "name": "stdout",
     "output_type": "stream",
     "text": [
      "4\n"
     ]
    }
   ],
   "source": [
    "for i in range(1,10,3):\n",
    "    if i%2==0:\n",
    "        print(i)"
   ]
  },
  {
   "cell_type": "code",
   "execution_count": 25,
   "id": "6a2eaf5b",
   "metadata": {},
   "outputs": [
    {
     "name": "stdout",
     "output_type": "stream",
     "text": [
      "2\n",
      "3\n",
      "4\n",
      "5\n"
     ]
    }
   ],
   "source": [
    "x = \"data\"\n",
    "for i in range(0,len(x)):\n",
    "    print(i+2)"
   ]
  },
  {
   "cell_type": "code",
   "execution_count": 26,
   "id": "cdfad0ba",
   "metadata": {},
   "outputs": [
    {
     "name": "stdout",
     "output_type": "stream",
     "text": [
      "1\n",
      "2\n",
      "3\n"
     ]
    }
   ],
   "source": [
    "a = \"be a good girl\"\n",
    "count = 0\n",
    "for i in a:\n",
    "    if not(i.isalnum()):\n",
    "        count = count+1\n",
    "        print(count)"
   ]
  },
  {
   "cell_type": "code",
   "execution_count": 27,
   "id": "79469d4c",
   "metadata": {},
   "outputs": [
    {
     "name": "stdout",
     "output_type": "stream",
     "text": [
      "1\n"
     ]
    }
   ],
   "source": [
    "review = \"Be a good girl\"\n",
    "count = 0 \n",
    "for i in review:\n",
    "    if i.isupper():\n",
    "        count = count+1\n",
    "print(count)"
   ]
  },
  {
   "cell_type": "code",
   "execution_count": 28,
   "id": "18ef2abf",
   "metadata": {},
   "outputs": [
    {
     "name": "stdout",
     "output_type": "stream",
     "text": [
      "data\n"
     ]
    }
   ],
   "source": [
    "txt = \"Welcome to the jungle\"\n",
    "X = txt.split()\n",
    "print(x)"
   ]
  },
  {
   "cell_type": "code",
   "execution_count": 29,
   "id": "4dff6b5e",
   "metadata": {},
   "outputs": [
    {
     "name": "stdout",
     "output_type": "stream",
     "text": [
      "Enter num 1 :6\n",
      "Enter num 2 :7\n"
     ]
    }
   ],
   "source": [
    "a = int(input(\"Enter num 1 :\"))\n",
    "b = int(input(\"Enter num 2 :\"))\n",
    "for i in range(a+1,b):\n",
    "    print(i)"
   ]
  },
  {
   "cell_type": "code",
   "execution_count": 30,
   "id": "2d9656cd",
   "metadata": {},
   "outputs": [
    {
     "name": "stdout",
     "output_type": "stream",
     "text": [
      "2\n",
      "4\n",
      "6\n",
      "8\n",
      "10\n"
     ]
    }
   ],
   "source": [
    "for i in range(1,11):\n",
    "    if(i%2==0):\n",
    "        print(i)"
   ]
  },
  {
   "cell_type": "markdown",
   "id": "5d8a3ecc",
   "metadata": {},
   "source": [
    "COUNT THE NUMBER OF ODD NUMBERS BETWEEN 1 TO 10 "
   ]
  },
  {
   "cell_type": "code",
   "execution_count": 31,
   "id": "d4f1ded2",
   "metadata": {},
   "outputs": [
    {
     "name": "stdout",
     "output_type": "stream",
     "text": [
      "5\n"
     ]
    }
   ],
   "source": [
    "count = 0\n",
    "for i in range(1,11):\n",
    "    if(i%2==1):\n",
    "        count = count+1\n",
    "print(count)"
   ]
  },
  {
   "cell_type": "markdown",
   "id": "7f9f329e",
   "metadata": {},
   "source": [
    "COUNT THE NUM OF ODD AND EVEN NUMBER BETWEEN 1 TO 10 AND PRINT IT"
   ]
  },
  {
   "cell_type": "code",
   "execution_count": 32,
   "id": "d87b713f",
   "metadata": {},
   "outputs": [
    {
     "name": "stdout",
     "output_type": "stream",
     "text": [
      "Even : 5\n",
      "Odd : 5\n"
     ]
    }
   ],
   "source": [
    "even = 0\n",
    "odd = 0\n",
    "for i in range(1,11):\n",
    "    if(i%2==0):\n",
    "        even = even+1\n",
    "    else:\n",
    "        odd = odd+1\n",
    "print(\"Even :\",even)\n",
    "print(\"Odd :\",odd)"
   ]
  },
  {
   "cell_type": "markdown",
   "id": "347788a2",
   "metadata": {},
   "source": [
    "COUNT THE NUMBER WHICH ARE DIVISIBLE BY 3 AND 5 RANGE 1-100"
   ]
  },
  {
   "cell_type": "code",
   "execution_count": 33,
   "id": "fefd4830",
   "metadata": {},
   "outputs": [
    {
     "name": "stdout",
     "output_type": "stream",
     "text": [
      "count: 33\n"
     ]
    }
   ],
   "source": [
    "count = 0\n",
    "for i in range(1,101):\n",
    "    if(i%3==0 & i%5==0):\n",
    "        count = count+1\n",
    "print(\"count:\",count)"
   ]
  },
  {
   "cell_type": "markdown",
   "id": "26f1d00e",
   "metadata": {},
   "source": [
    "WRITE A PROGRAM TO COMPARE THE SUM OF THE FIRST  5 NATURAL NUMBER"
   ]
  },
  {
   "cell_type": "code",
   "execution_count": 34,
   "id": "30d0e91b",
   "metadata": {},
   "outputs": [
    {
     "name": "stdout",
     "output_type": "stream",
     "text": [
      "15\n"
     ]
    }
   ],
   "source": [
    "sum = 0\n",
    "for i in range(1, 6):\n",
    "    sum = sum +i\n",
    "print(sum)"
   ]
  },
  {
   "cell_type": "markdown",
   "id": "578d182c",
   "metadata": {},
   "source": [
    "WRITE A PROGRAM TO READ 10 NUMBER FROM THE KEYBOARD AND FIND THEIR SUM AND AVERAGE"
   ]
  },
  {
   "cell_type": "code",
   "execution_count": 35,
   "id": "31b4bd76",
   "metadata": {},
   "outputs": [
    {
     "name": "stdout",
     "output_type": "stream",
     "text": [
      "Enter 10 number :\n",
      "Enter num 17\n",
      "Enter num 27\n",
      "Enter num 37\n",
      "Enter num 47\n",
      "Enter num 58\n",
      "Enter num 69\n",
      "Enter num 75\n",
      "Enter num 83\n",
      "Enter num 93\n",
      "Enter num 102\n",
      "[7, 7, 7, 7, 8, 9, 5, 3, 3, 2]\n",
      "2\n",
      "1.0\n"
     ]
    }
   ],
   "source": [
    "a =[]\n",
    "print(\"Enter 10 number :\")\n",
    "for i in range(10):\n",
    "    num = int(input(\"Enter num \"+str(i+1)))\n",
    "    a.append(num)\n",
    "print(a)\n",
    "sum = 0\n",
    "for i in a:\n",
    "    sum = sum+1\n",
    "print(num)\n",
    "print(sum/10)"
   ]
  },
  {
   "cell_type": "code",
   "execution_count": 36,
   "id": "ab27f580",
   "metadata": {},
   "outputs": [
    {
     "name": "stdout",
     "output_type": "stream",
     "text": [
      "1\n",
      "3\n",
      "5\n",
      "7\n",
      "9\n"
     ]
    }
   ],
   "source": [
    "for number in range(10):\n",
    "    if number%2 == 0:\n",
    "        continue\n",
    "    print(number)"
   ]
  },
  {
   "cell_type": "code",
   "execution_count": 37,
   "id": "44c8a40a",
   "metadata": {},
   "outputs": [
    {
     "name": "stdout",
     "output_type": "stream",
     "text": [
      "0,1,2,3,4,5,"
     ]
    }
   ],
   "source": [
    "for i in range(0,10):\n",
    "    if(i>5):\n",
    "        continue\n",
    "        print(i,end=',')\n",
    "    else:\n",
    "        print(i, end=',')"
   ]
  },
  {
   "cell_type": "markdown",
   "id": "f6db8e63",
   "metadata": {},
   "source": [
    "# WHILE LOOP"
   ]
  },
  {
   "cell_type": "code",
   "execution_count": 38,
   "id": "e46fc4c1",
   "metadata": {},
   "outputs": [
    {
     "name": "stdout",
     "output_type": "stream",
     "text": [
      "0\n"
     ]
    }
   ],
   "source": [
    "i = 0\n",
    "while(i==0):\n",
    "    print(i)\n",
    "    i=i+1"
   ]
  },
  {
   "cell_type": "code",
   "execution_count": 1,
   "id": "3c8d8f4d",
   "metadata": {},
   "outputs": [
    {
     "ename": "SyntaxError",
     "evalue": "unexpected EOF while parsing (2775210389.py, line 3)",
     "output_type": "error",
     "traceback": [
      "\u001b[1;36m  Input \u001b[1;32mIn [1]\u001b[1;36m\u001b[0m\n\u001b[1;33m    print(i\u001b[0m\n\u001b[1;37m           ^\u001b[0m\n\u001b[1;31mSyntaxError\u001b[0m\u001b[1;31m:\u001b[0m unexpected EOF while parsing\n"
     ]
    }
   ],
   "source": [
    "i=0\n",
    "while(i==0):\n",
    "    print(i"
   ]
  },
  {
   "cell_type": "code",
   "execution_count": null,
   "id": "f98c8ddb",
   "metadata": {},
   "outputs": [],
   "source": [
    "i=0\n",
    "while(True):\n",
    "    print(\"True\")"
   ]
  },
  {
   "cell_type": "code",
   "execution_count": null,
   "id": "44f25127",
   "metadata": {},
   "outputs": [],
   "source": [
    "i = 1\n",
    "while(True):\n",
    "    print(\"True\")"
   ]
  },
  {
   "cell_type": "code",
   "execution_count": null,
   "id": "458d212a",
   "metadata": {},
   "outputs": [],
   "source": [
    "i = 1\n",
    "while(i<5):\n",
    "    print(i)\n",
    "    i=i+1"
   ]
  },
  {
   "cell_type": "markdown",
   "id": "7a2ae7fd",
   "metadata": {},
   "source": [
    "WRITE A LOOP STATEMENT TO PRINT THE FOLLOWING SERIES 10 ,20,30,40,....200"
   ]
  },
  {
   "cell_type": "code",
   "execution_count": null,
   "id": "7b0f93c5",
   "metadata": {},
   "outputs": [],
   "source": [
    "a = 10\n",
    "while(a<=200):\n",
    "    print(a, end=\",\")\n",
    "    a = a + 10"
   ]
  },
  {
   "cell_type": "markdown",
   "id": "67505f9b",
   "metadata": {},
   "source": [
    "WRITE A PROGRAM TO PRINT FIRST 10 NATURAL NUMBERS IN REVERSE ORDER"
   ]
  },
  {
   "cell_type": "code",
   "execution_count": null,
   "id": "5f14b4c5",
   "metadata": {},
   "outputs": [],
   "source": [
    "a = 10\n",
    "while(a>0):\n",
    "    print(a)\n",
    "    a=a-1"
   ]
  },
  {
   "cell_type": "markdown",
   "id": "7f77561f",
   "metadata": {},
   "source": [
    "WRITE A PROGRAM TO PRINT THE FACTORIAL OF A NUMBER"
   ]
  },
  {
   "cell_type": "code",
   "execution_count": null,
   "id": "e575150f",
   "metadata": {},
   "outputs": [],
   "source": [
    "i = 3\n",
    "fact = 1\n",
    "while(i>0):\n",
    "    fact = fact*i\n",
    "    i=i+1\n",
    "print(fact)"
   ]
  },
  {
   "cell_type": "code",
   "execution_count": null,
   "id": "2686c952",
   "metadata": {},
   "outputs": [],
   "source": []
  },
  {
   "cell_type": "code",
   "execution_count": null,
   "id": "b3096de3",
   "metadata": {},
   "outputs": [],
   "source": []
  }
 ],
 "metadata": {
  "kernelspec": {
   "display_name": "base",
   "language": "python",
   "name": "python3"
  },
  "language_info": {
   "codemirror_mode": {
    "name": "ipython",
    "version": 3
   },
   "file_extension": ".py",
   "mimetype": "text/x-python",
   "name": "python",
   "nbconvert_exporter": "python",
   "pygments_lexer": "ipython3",
   "version": "3.9.12"
  }
 },
 "nbformat": 4,
 "nbformat_minor": 5
}
