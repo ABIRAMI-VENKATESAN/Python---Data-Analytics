{
 "cells": [
  {
   "cell_type": "markdown",
   "id": "3ec08390",
   "metadata": {},
   "source": [
    "# INTRODUCTION"
   ]
  },
  {
   "cell_type": "code",
   "execution_count": null,
   "id": "6668f953",
   "metadata": {},
   "outputs": [],
   "source": [
    "a = 10\n",
    "b = 20\n",
    "c = a + b"
   ]
  },
  {
   "cell_type": "code",
   "execution_count": null,
   "id": "8b4239ce",
   "metadata": {},
   "outputs": [],
   "source": [
    "c"
   ]
  },
  {
   "cell_type": "markdown",
   "id": "822329d8",
   "metadata": {},
   "source": [
    "# TO FIND THE DATATYPE:"
   ]
  },
  {
   "cell_type": "code",
   "execution_count": null,
   "id": "537346fa",
   "metadata": {},
   "outputs": [],
   "source": [
    "B = 25"
   ]
  },
  {
   "cell_type": "code",
   "execution_count": null,
   "id": "50b1e19c",
   "metadata": {},
   "outputs": [],
   "source": [
    "type(B)"
   ]
  },
  {
   "cell_type": "code",
   "execution_count": null,
   "id": "4ef27e5c",
   "metadata": {},
   "outputs": [],
   "source": [
    "B = \"virat kohli\""
   ]
  },
  {
   "cell_type": "code",
   "execution_count": null,
   "id": "f852b913",
   "metadata": {},
   "outputs": [],
   "source": [
    "type(B)"
   ]
  },
  {
   "cell_type": "markdown",
   "id": "d431b46c",
   "metadata": {},
   "source": [
    "# OPERATOR"
   ]
  },
  {
   "cell_type": "code",
   "execution_count": null,
   "id": "1fe2fa82",
   "metadata": {},
   "outputs": [],
   "source": [
    "A = 18\n",
    "B = 20\n",
    "A = B"
   ]
  },
  {
   "cell_type": "code",
   "execution_count": null,
   "id": "34fac6db",
   "metadata": {},
   "outputs": [],
   "source": [
    "print(A)"
   ]
  },
  {
   "cell_type": "code",
   "execution_count": null,
   "id": "973fb0d0",
   "metadata": {},
   "outputs": [],
   "source": [
    "A = 18\n",
    "B = 20\n",
    "B = A"
   ]
  },
  {
   "cell_type": "code",
   "execution_count": null,
   "id": "7de37ad1",
   "metadata": {},
   "outputs": [],
   "source": [
    "print(B)"
   ]
  },
  {
   "cell_type": "markdown",
   "id": "aa813936",
   "metadata": {},
   "source": [
    "# ASSIGNING A VALUE"
   ]
  },
  {
   "cell_type": "markdown",
   "id": "3e8df3df",
   "metadata": {},
   "source": [
    "SINGLE VALUE ASSIGNMENT :"
   ]
  },
  {
   "cell_type": "code",
   "execution_count": null,
   "id": "9a26902d",
   "metadata": {},
   "outputs": [],
   "source": [
    "Name = 'Victor'\n",
    "Salary = 2000\n",
    "Address = \"Banglore\""
   ]
  },
  {
   "cell_type": "code",
   "execution_count": null,
   "id": "420560bc",
   "metadata": {},
   "outputs": [],
   "source": [
    "print(Name)"
   ]
  },
  {
   "cell_type": "code",
   "execution_count": null,
   "id": "d1721e78",
   "metadata": {},
   "outputs": [],
   "source": [
    "print(Salary)"
   ]
  },
  {
   "cell_type": "markdown",
   "id": "00a163a6",
   "metadata": {},
   "source": [
    "MULTIPLE VALUE ASSIGNMENT :"
   ]
  },
  {
   "cell_type": "code",
   "execution_count": null,
   "id": "01c877e3",
   "metadata": {},
   "outputs": [],
   "source": [
    "x = y = z = 10"
   ]
  },
  {
   "cell_type": "code",
   "execution_count": null,
   "id": "f39c4562",
   "metadata": {},
   "outputs": [],
   "source": [
    "print (x)"
   ]
  },
  {
   "cell_type": "code",
   "execution_count": null,
   "id": "5f89055a",
   "metadata": {},
   "outputs": [],
   "source": [
    "print(y)"
   ]
  },
  {
   "cell_type": "code",
   "execution_count": null,
   "id": "f9f6ea9c",
   "metadata": {},
   "outputs": [],
   "source": [
    "print(z)"
   ]
  },
  {
   "cell_type": "markdown",
   "id": "df763e06",
   "metadata": {},
   "source": [
    "# INBUILT FUNCTIONS"
   ]
  },
  {
   "cell_type": "code",
   "execution_count": null,
   "id": "39611124",
   "metadata": {},
   "outputs": [],
   "source": [
    "Class = \"Python Batch\""
   ]
  },
  {
   "cell_type": "code",
   "execution_count": null,
   "id": "19292af4",
   "metadata": {},
   "outputs": [],
   "source": [
    "Class.lower()"
   ]
  },
  {
   "cell_type": "code",
   "execution_count": null,
   "id": "0147a00e",
   "metadata": {},
   "outputs": [],
   "source": [
    "Class.upper()"
   ]
  },
  {
   "cell_type": "code",
   "execution_count": null,
   "id": "b5578e6a",
   "metadata": {},
   "outputs": [],
   "source": [
    "Class.title()"
   ]
  },
  {
   "cell_type": "code",
   "execution_count": null,
   "id": "9c4e974e",
   "metadata": {},
   "outputs": [],
   "source": [
    "Class.capitalize()"
   ]
  },
  {
   "cell_type": "code",
   "execution_count": null,
   "id": "c24986aa",
   "metadata": {},
   "outputs": [],
   "source": [
    "Class.swapcase()"
   ]
  },
  {
   "cell_type": "code",
   "execution_count": null,
   "id": "c88216dd",
   "metadata": {},
   "outputs": [],
   "source": [
    "Class.isalpha()"
   ]
  },
  {
   "cell_type": "code",
   "execution_count": null,
   "id": "ceef142f",
   "metadata": {},
   "outputs": [],
   "source": [
    "Class.isalnum()"
   ]
  },
  {
   "cell_type": "code",
   "execution_count": null,
   "id": "ff1a87b8",
   "metadata": {},
   "outputs": [],
   "source": [
    "Class.isnumeric()"
   ]
  },
  {
   "cell_type": "code",
   "execution_count": null,
   "id": "c6ddfdf2",
   "metadata": {},
   "outputs": [],
   "source": [
    "C = \"Data Science\""
   ]
  },
  {
   "cell_type": "code",
   "execution_count": null,
   "id": "2b177d87",
   "metadata": {},
   "outputs": [],
   "source": [
    "C.endswith(\"C\")"
   ]
  },
  {
   "cell_type": "code",
   "execution_count": null,
   "id": "ee716185",
   "metadata": {},
   "outputs": [],
   "source": [
    "C.startswith(\"D\")"
   ]
  },
  {
   "cell_type": "code",
   "execution_count": null,
   "id": "d9abbdba",
   "metadata": {},
   "outputs": [],
   "source": [
    "C.split()"
   ]
  },
  {
   "cell_type": "code",
   "execution_count": null,
   "id": "48f7a493",
   "metadata": {},
   "outputs": [],
   "source": [
    "a = \"+91-4587555256\""
   ]
  },
  {
   "cell_type": "code",
   "execution_count": null,
   "id": "ea53e84d",
   "metadata": {},
   "outputs": [],
   "source": [
    "a.split()"
   ]
  },
  {
   "cell_type": "code",
   "execution_count": null,
   "id": "c9364039",
   "metadata": {},
   "outputs": [],
   "source": [
    "a.split(\"_\")"
   ]
  },
  {
   "cell_type": "code",
   "execution_count": null,
   "id": "456789d6",
   "metadata": {},
   "outputs": [],
   "source": [
    "a = \"Data Science\""
   ]
  },
  {
   "cell_type": "code",
   "execution_count": null,
   "id": "0e75f3e3",
   "metadata": {},
   "outputs": [],
   "source": [
    "a.split(a)"
   ]
  },
  {
   "cell_type": "code",
   "execution_count": null,
   "id": "69610da9",
   "metadata": {},
   "outputs": [],
   "source": [
    "c = \"   Vyankat   \""
   ]
  },
  {
   "cell_type": "code",
   "execution_count": null,
   "id": "5d009783",
   "metadata": {},
   "outputs": [],
   "source": [
    "c.strip()"
   ]
  },
  {
   "cell_type": "code",
   "execution_count": null,
   "id": "25cad1fe",
   "metadata": {},
   "outputs": [],
   "source": [
    "c.rstrip()"
   ]
  },
  {
   "cell_type": "code",
   "execution_count": null,
   "id": "51b1b1d2",
   "metadata": {},
   "outputs": [],
   "source": [
    "c.lstrip()"
   ]
  },
  {
   "cell_type": "code",
   "execution_count": null,
   "id": "99e25604",
   "metadata": {},
   "outputs": [],
   "source": [
    "d = \"Vyankat\""
   ]
  },
  {
   "cell_type": "code",
   "execution_count": null,
   "id": "c2bf3d1d",
   "metadata": {},
   "outputs": [],
   "source": [
    "d.center(11,\"*\")"
   ]
  },
  {
   "cell_type": "code",
   "execution_count": null,
   "id": "d2468558",
   "metadata": {},
   "outputs": [],
   "source": [
    "d.ljust(15,'*')"
   ]
  },
  {
   "cell_type": "code",
   "execution_count": null,
   "id": "f6122a9d",
   "metadata": {},
   "outputs": [],
   "source": [
    "d.rjust(10,'*')"
   ]
  },
  {
   "cell_type": "code",
   "execution_count": null,
   "id": "5483e3c1",
   "metadata": {},
   "outputs": [],
   "source": [
    "e = 'Data Science'"
   ]
  },
  {
   "cell_type": "code",
   "execution_count": null,
   "id": "c1010252",
   "metadata": {},
   "outputs": [],
   "source": [
    "e.index(e)"
   ]
  },
  {
   "cell_type": "markdown",
   "id": "23c415a9",
   "metadata": {},
   "source": [
    "# WAYS TO GIVE INPUT"
   ]
  },
  {
   "cell_type": "code",
   "execution_count": null,
   "id": "49a140fa",
   "metadata": {},
   "outputs": [],
   "source": [
    "x = 1\n",
    "print(x)"
   ]
  },
  {
   "cell_type": "code",
   "execution_count": null,
   "id": "57d2f29e",
   "metadata": {},
   "outputs": [],
   "source": [
    "x = int(input(\"Enter value of x : \"))"
   ]
  },
  {
   "cell_type": "code",
   "execution_count": null,
   "id": "81128697",
   "metadata": {},
   "outputs": [],
   "source": [
    "w = float(input(\"Give a Decimal values : \"))"
   ]
  },
  {
   "cell_type": "markdown",
   "id": "d55bb0d7",
   "metadata": {},
   "source": [
    "# COMPLEX (n+ij)"
   ]
  },
  {
   "cell_type": "code",
   "execution_count": null,
   "id": "7361b811",
   "metadata": {},
   "outputs": [],
   "source": [
    "x = 2 + 3j"
   ]
  },
  {
   "cell_type": "code",
   "execution_count": null,
   "id": "25b74f28",
   "metadata": {},
   "outputs": [],
   "source": [
    "print(type(x))"
   ]
  },
  {
   "cell_type": "markdown",
   "id": "83e94021",
   "metadata": {},
   "source": [
    "# JOIN OR MERGING"
   ]
  },
  {
   "cell_type": "code",
   "execution_count": null,
   "id": "6f9d4ead",
   "metadata": {},
   "outputs": [],
   "source": [
    "\"d\".join(\"abc\")"
   ]
  },
  {
   "cell_type": "code",
   "execution_count": null,
   "id": "3af81b74",
   "metadata": {},
   "outputs": [],
   "source": [
    "\"da\".join(\"data Science\")"
   ]
  },
  {
   "cell_type": "markdown",
   "id": "5b21065a",
   "metadata": {},
   "source": [
    "# SLICING"
   ]
  },
  {
   "cell_type": "code",
   "execution_count": null,
   "id": "1f416345",
   "metadata": {},
   "outputs": [],
   "source": [
    "S = \"Data Science\""
   ]
  },
  {
   "cell_type": "code",
   "execution_count": null,
   "id": "4374500a",
   "metadata": {},
   "outputs": [],
   "source": [
    "S[0:4]"
   ]
  },
  {
   "cell_type": "code",
   "execution_count": null,
   "id": "7ea94a7c",
   "metadata": {},
   "outputs": [],
   "source": [
    "S[:4]"
   ]
  },
  {
   "cell_type": "code",
   "execution_count": null,
   "id": "bc2bba4e",
   "metadata": {},
   "outputs": [],
   "source": [
    "S[0:12]"
   ]
  },
  {
   "cell_type": "code",
   "execution_count": null,
   "id": "21d4f6ea",
   "metadata": {},
   "outputs": [],
   "source": [
    "S[:]"
   ]
  },
  {
   "cell_type": "code",
   "execution_count": null,
   "id": "7eb745d6",
   "metadata": {},
   "outputs": [],
   "source": [
    "S[:50]"
   ]
  },
  {
   "cell_type": "code",
   "execution_count": null,
   "id": "7c71aa48",
   "metadata": {},
   "outputs": [],
   "source": [
    "X = \"Machine Learning\""
   ]
  },
  {
   "cell_type": "markdown",
   "id": "708b4815",
   "metadata": {},
   "source": [
    "1. PRINT MALE FROM X:"
   ]
  },
  {
   "cell_type": "code",
   "execution_count": null,
   "id": "9474bb4b",
   "metadata": {},
   "outputs": [],
   "source": [
    "X[:2].upper() + X[8:10].upper()"
   ]
  },
  {
   "cell_type": "markdown",
   "id": "cdb110c2",
   "metadata": {},
   "source": [
    "2. PRINT MANEear"
   ]
  },
  {
   "cell_type": "code",
   "execution_count": null,
   "id": "d9fa6b6a",
   "metadata": {},
   "outputs": [],
   "source": [
    "X[:2].upper() + X[5:7].upper() + X[9:12]"
   ]
  },
  {
   "cell_type": "markdown",
   "id": "2cbf1ce3",
   "metadata": {},
   "source": [
    "3. PRINT MANE ear"
   ]
  },
  {
   "cell_type": "code",
   "execution_count": null,
   "id": "e108b322",
   "metadata": {},
   "outputs": [],
   "source": [
    "X[:2].upper()+X[5:7].upper()+\" \"+X[9:12]"
   ]
  },
  {
   "cell_type": "code",
   "execution_count": null,
   "id": "12856978",
   "metadata": {},
   "outputs": [],
   "source": [
    "X = [\"data\", 9, 2024.23,3+4j,[10,20,30]]"
   ]
  },
  {
   "cell_type": "markdown",
   "id": "b68faef2",
   "metadata": {},
   "source": [
    "1. WANT TO SLICE ONLY \"a\" FROM \"data\""
   ]
  },
  {
   "cell_type": "code",
   "execution_count": null,
   "id": "48bd4d90",
   "metadata": {},
   "outputs": [],
   "source": [
    "X[0][1:2]"
   ]
  },
  {
   "cell_type": "markdown",
   "id": "ba2c4e80",
   "metadata": {},
   "source": [
    "2. PRINT \".23\""
   ]
  },
  {
   "cell_type": "code",
   "execution_count": null,
   "id": "6f04bc61",
   "metadata": {},
   "outputs": [],
   "source": [
    "X[2][-3:]"
   ]
  },
  {
   "cell_type": "code",
   "execution_count": null,
   "id": "83666778",
   "metadata": {},
   "outputs": [],
   "source": [
    "topics = [['Math',['Algebra','Calculus','Geometry']],\n",
    "         ['Science',['Physics','Chemistry','Biology']],\n",
    "         ['Technology',['Programming','Networking','AI']],\n",
    "         ['History',['Ancient','Medieval','Modern']],\n",
    "         ['Art',['Painting','Sculpture','Architecture']]\n",
    "         ]"
   ]
  },
  {
   "cell_type": "markdown",
   "id": "05236280",
   "metadata": {},
   "source": [
    "1. Print \"Modern Architecture\""
   ]
  },
  {
   "cell_type": "code",
   "execution_count": null,
   "id": "41534f82",
   "metadata": {},
   "outputs": [],
   "source": [
    "topics[3][1] [-1] + \" \" + topics[4][1][-1]"
   ]
  },
  {
   "cell_type": "markdown",
   "id": "25910392",
   "metadata": {},
   "source": [
    "PRINT GEO,BIO,CHEM"
   ]
  },
  {
   "cell_type": "code",
   "execution_count": null,
   "id": "15064e31",
   "metadata": {},
   "outputs": [],
   "source": [
    "topics[0][1][2][:3].upper() , topics[1][1][2][:3].upper() , topics[1][1][1][:4].upper()"
   ]
  },
  {
   "cell_type": "code",
   "execution_count": null,
   "id": "961468be",
   "metadata": {},
   "outputs": [],
   "source": [
    "DATA TYPE\n",
    "1.IMMUTABLE DATA TYPE\n",
    "2.MUTABLE DATA TYPE\n",
    "IMMUTABLE:\n",
    "    I.NUMERIC DATA(interger,float,complex)\n",
    "    II.STRING\n",
    "    III.TUPLE\n",
    "MUTABLE:\n",
    "    I.LIST\n",
    "    II.DICTONARY"
   ]
  },
  {
   "cell_type": "markdown",
   "id": "4dd4633d",
   "metadata": {},
   "source": [
    "# TUPLE:"
   ]
  },
  {
   "cell_type": "code",
   "execution_count": null,
   "id": "c9fe6ae8",
   "metadata": {},
   "outputs": [],
   "source": [
    "Weekdays = ('Sun','Mon','Tue','Wed','Thu','Fri','Sat')"
   ]
  },
  {
   "cell_type": "code",
   "execution_count": null,
   "id": "2dbf9872",
   "metadata": {},
   "outputs": [],
   "source": [
    "type(Weekdays)"
   ]
  },
  {
   "cell_type": "code",
   "execution_count": null,
   "id": "fe289161",
   "metadata": {},
   "outputs": [],
   "source": [
    "Weekdays.append(\"Mecuray\")"
   ]
  },
  {
   "cell_type": "code",
   "execution_count": null,
   "id": "21a5ae5a",
   "metadata": {},
   "outputs": [],
   "source": [
    "Weekdays[0:3]"
   ]
  },
  {
   "cell_type": "markdown",
   "id": "d7019808",
   "metadata": {},
   "source": [
    "# LIST:"
   ]
  },
  {
   "cell_type": "code",
   "execution_count": null,
   "id": "ed8fac53",
   "metadata": {},
   "outputs": [],
   "source": [
    "Salary = [10,15,20]"
   ]
  },
  {
   "cell_type": "code",
   "execution_count": null,
   "id": "484c30d3",
   "metadata": {},
   "outputs": [],
   "source": [
    "type[Salary]"
   ]
  },
  {
   "cell_type": "markdown",
   "id": "adb1415c",
   "metadata": {},
   "source": [
    "1. CHANGE 1STSALARY FROM 10 TO 18 :"
   ]
  },
  {
   "cell_type": "code",
   "execution_count": null,
   "id": "bccb59a3",
   "metadata": {},
   "outputs": [],
   "source": [
    "Salary[0] = 18"
   ]
  },
  {
   "cell_type": "code",
   "execution_count": null,
   "id": "28e58e6b",
   "metadata": {},
   "outputs": [],
   "source": [
    "Salary"
   ]
  },
  {
   "cell_type": "markdown",
   "id": "6ad4bbee",
   "metadata": {},
   "source": [
    "2. INCREASE THE SALARY OF 3RD PERSON BY 8 :"
   ]
  },
  {
   "cell_type": "code",
   "execution_count": null,
   "id": "8c5ee046",
   "metadata": {},
   "outputs": [],
   "source": [
    "Salary[2]+=8"
   ]
  },
  {
   "cell_type": "code",
   "execution_count": null,
   "id": "a06594ff",
   "metadata": {},
   "outputs": [],
   "source": [
    "Salary"
   ]
  },
  {
   "cell_type": "markdown",
   "id": "7b18f66a",
   "metadata": {},
   "source": [
    "3. ADD THE DATA IN LIST"
   ]
  },
  {
   "cell_type": "code",
   "execution_count": null,
   "id": "7ce82ab5",
   "metadata": {},
   "outputs": [],
   "source": [
    "Salary.append(28)"
   ]
  },
  {
   "cell_type": "code",
   "execution_count": null,
   "id": "f0f42dc1",
   "metadata": {},
   "outputs": [],
   "source": [
    "Salary"
   ]
  },
  {
   "cell_type": "markdown",
   "id": "292218a8",
   "metadata": {},
   "source": [
    "# DICTIONARY"
   ]
  },
  {
   "cell_type": "code",
   "execution_count": null,
   "id": "f3b45cbd",
   "metadata": {},
   "outputs": [],
   "source": [
    "Salaries = {'John' : 15, 'Jane' : 14 , 'Johny' :16 }"
   ]
  },
  {
   "cell_type": "code",
   "execution_count": null,
   "id": "21346762",
   "metadata": {},
   "outputs": [],
   "source": [
    "Salaries['John']"
   ]
  },
  {
   "cell_type": "code",
   "execution_count": null,
   "id": "7bc809ae",
   "metadata": {},
   "outputs": [],
   "source": [
    "Thisdict = {'brand' : 'Ford',\n",
    "            'Model' : 'Mustang',\n",
    "            'Year' : 1964\n",
    "            }"
   ]
  },
  {
   "cell_type": "code",
   "execution_count": null,
   "id": "afa3f496",
   "metadata": {},
   "outputs": [],
   "source": [
    "print(Thisdict)"
   ]
  },
  {
   "cell_type": "code",
   "execution_count": null,
   "id": "923d5ece",
   "metadata": {},
   "outputs": [],
   "source": [
    "print(len(Thisdict))"
   ]
  },
  {
   "cell_type": "markdown",
   "id": "8b7735fa",
   "metadata": {},
   "source": [
    "# ARITHEMATIC OPERATORS :"
   ]
  },
  {
   "cell_type": "code",
   "execution_count": null,
   "id": "2d9895d1",
   "metadata": {},
   "outputs": [],
   "source": [
    "x = 5\n",
    "y = 2\n",
    "print(x+y)"
   ]
  },
  {
   "cell_type": "code",
   "execution_count": null,
   "id": "38492046",
   "metadata": {},
   "outputs": [],
   "source": [
    "print(x-y)"
   ]
  },
  {
   "cell_type": "code",
   "execution_count": null,
   "id": "34d58108",
   "metadata": {},
   "outputs": [],
   "source": [
    "print(x*y)"
   ]
  },
  {
   "cell_type": "code",
   "execution_count": null,
   "id": "bc917694",
   "metadata": {},
   "outputs": [],
   "source": [
    "x = 6\n",
    "y = 5\n",
    "Addition = x+y\n",
    "print(Addition)"
   ]
  },
  {
   "cell_type": "code",
   "execution_count": null,
   "id": "fca9e94b",
   "metadata": {},
   "outputs": [],
   "source": [
    "print(f\"Addition:{x}+{y}={Addition}\")"
   ]
  },
  {
   "cell_type": "code",
   "execution_count": null,
   "id": "27aa72a6",
   "metadata": {},
   "outputs": [],
   "source": [
    "X = 6\n",
    "Y = 5\n",
    "Multiplication = x*y\n",
    "print(\"Multiplication of x and y =\",x*y)"
   ]
  },
  {
   "cell_type": "markdown",
   "id": "8e616529",
   "metadata": {},
   "source": [
    "EXPONENTIAL:(Taking a power)"
   ]
  },
  {
   "cell_type": "code",
   "execution_count": null,
   "id": "8158c990",
   "metadata": {},
   "outputs": [],
   "source": [
    "a = 6\n",
    "b = 3\n",
    "expon = a**b\n",
    "print(expon)"
   ]
  },
  {
   "cell_type": "markdown",
   "id": "8433ad13",
   "metadata": {},
   "source": [
    "FLOOR DIVISION:"
   ]
  },
  {
   "cell_type": "code",
   "execution_count": null,
   "id": "326b34ce",
   "metadata": {},
   "outputs": [],
   "source": [
    "x = 5\n",
    "y = 3\n",
    "Floor_division = x//y\n",
    "print(f\"floor division:{x}//{y}={Floor_division}\")"
   ]
  },
  {
   "cell_type": "code",
   "execution_count": null,
   "id": "79415921",
   "metadata": {},
   "outputs": [],
   "source": [
    "a = 40\n",
    "b = 5"
   ]
  },
  {
   "cell_type": "code",
   "execution_count": null,
   "id": "2c0fe1a2",
   "metadata": {},
   "outputs": [],
   "source": [
    "print(a+b)"
   ]
  },
  {
   "cell_type": "code",
   "execution_count": null,
   "id": "eee66c18",
   "metadata": {},
   "outputs": [],
   "source": [
    "print(a-b)"
   ]
  },
  {
   "cell_type": "code",
   "execution_count": null,
   "id": "934b652d",
   "metadata": {},
   "outputs": [],
   "source": [
    "print(a*b)"
   ]
  },
  {
   "cell_type": "code",
   "execution_count": null,
   "id": "f4260d16",
   "metadata": {},
   "outputs": [],
   "source": [
    "print(a/b)"
   ]
  },
  {
   "cell_type": "code",
   "execution_count": null,
   "id": "f52bb092",
   "metadata": {},
   "outputs": [],
   "source": [
    "print(a//b)"
   ]
  },
  {
   "cell_type": "code",
   "execution_count": null,
   "id": "7bc1cd0a",
   "metadata": {},
   "outputs": [],
   "source": [
    "print(a**b)"
   ]
  },
  {
   "cell_type": "markdown",
   "id": "a1b80381",
   "metadata": {},
   "source": [
    "# ASSIGNMENT OPERATOR"
   ]
  },
  {
   "cell_type": "code",
   "execution_count": null,
   "id": "0db611fc",
   "metadata": {},
   "outputs": [],
   "source": [
    "x = 5\n",
    "print(x)\n",
    "a = 10\n",
    "print(a)"
   ]
  },
  {
   "cell_type": "code",
   "execution_count": null,
   "id": "95c29228",
   "metadata": {},
   "outputs": [],
   "source": [
    "x = 5\n",
    "print(x)\n",
    "x = 10\n",
    "print(x)\n"
   ]
  },
  {
   "cell_type": "code",
   "execution_count": null,
   "id": "d3968614",
   "metadata": {},
   "outputs": [],
   "source": [
    "x = 5\n",
    "x = 10\n",
    "print(x)"
   ]
  },
  {
   "cell_type": "code",
   "execution_count": null,
   "id": "08d03d45",
   "metadata": {},
   "outputs": [],
   "source": [
    "x = 5\n",
    "x **= 3\n",
    "print(\"Value of x:\", x)\n"
   ]
  },
  {
   "cell_type": "markdown",
   "id": "5f620cc6",
   "metadata": {},
   "source": [
    "# BITWISE AND OPERATOR"
   ]
  },
  {
   "cell_type": "code",
   "execution_count": null,
   "id": "470faa43",
   "metadata": {},
   "outputs": [],
   "source": [
    "X = 5\n",
    "X &= 3\n",
    "print(x)\n",
    "bin(x)"
   ]
  },
  {
   "cell_type": "code",
   "execution_count": null,
   "id": "0e4ff627",
   "metadata": {},
   "outputs": [],
   "source": [
    "bin(6)"
   ]
  },
  {
   "cell_type": "code",
   "execution_count": null,
   "id": "c0ff826e",
   "metadata": {},
   "outputs": [],
   "source": [
    "a = 5\n",
    "b = 6\n",
    "c = a & b\n",
    "print(c)\n",
    "bin(c)"
   ]
  },
  {
   "cell_type": "markdown",
   "id": "8883248b",
   "metadata": {},
   "source": [
    "# BITWISE OR OPERATOR"
   ]
  },
  {
   "cell_type": "code",
   "execution_count": null,
   "id": "0454da21",
   "metadata": {},
   "outputs": [],
   "source": [
    "x = 5\n",
    "x |= 3\n",
    "print(x)\n",
    "bin(x)\n"
   ]
  },
  {
   "cell_type": "code",
   "execution_count": null,
   "id": "1c512ecc",
   "metadata": {},
   "outputs": [],
   "source": [
    "a = 7\n",
    "a |= 10\n",
    "print(a)\n",
    "bin(a)"
   ]
  },
  {
   "cell_type": "markdown",
   "id": "dbaaf2ff",
   "metadata": {},
   "source": [
    "# BITWISE XOR OPERATOR"
   ]
  },
  {
   "cell_type": "code",
   "execution_count": null,
   "id": "3ac9b8be",
   "metadata": {},
   "outputs": [],
   "source": [
    "x = 5\n",
    "x ^= 3\n",
    "print(x)\n",
    "bin(x)"
   ]
  },
  {
   "cell_type": "code",
   "execution_count": null,
   "id": "89f1bcf7",
   "metadata": {},
   "outputs": [],
   "source": [
    "a = 7\n",
    "a ^= 10\n",
    "print(a)\n",
    "bin(a)"
   ]
  },
  {
   "cell_type": "markdown",
   "id": "23e90fd7",
   "metadata": {},
   "source": [
    "# RIGHT SHIFT ASSIGNMENT"
   ]
  },
  {
   "cell_type": "code",
   "execution_count": null,
   "id": "439109a9",
   "metadata": {},
   "outputs": [],
   "source": [
    "X = 8\n",
    "X >>= 2\n",
    "print(X)"
   ]
  },
  {
   "cell_type": "code",
   "execution_count": null,
   "id": "67b75db2",
   "metadata": {},
   "outputs": [],
   "source": [
    "y = 10\n",
    "y >>= 3\n",
    "print(bin(y))\n",
    "print(y)"
   ]
  },
  {
   "cell_type": "code",
   "execution_count": null,
   "id": "fae852e9",
   "metadata": {},
   "outputs": [],
   "source": [
    "x = 16\n",
    "x >>= 2\n",
    "print (x)\n",
    "print (bin(16))\n",
    "print (bin(4))    "
   ]
  },
  {
   "cell_type": "markdown",
   "id": "02bced53",
   "metadata": {},
   "source": [
    "# LEFT SHIFT ASSIGNMENT"
   ]
  },
  {
   "cell_type": "code",
   "execution_count": null,
   "id": "a8a054fd",
   "metadata": {},
   "outputs": [],
   "source": [
    "x = 3\n",
    "x <<= 2\n",
    "print(x)"
   ]
  },
  {
   "cell_type": "markdown",
   "id": "914390b2",
   "metadata": {},
   "source": [
    "# CONVERTING FROM BINARY TO DECIMAL"
   ]
  },
  {
   "cell_type": "code",
   "execution_count": null,
   "id": "615f3403",
   "metadata": {},
   "outputs": [],
   "source": [
    "b = int('1000111',2)\n",
    "print(b)"
   ]
  },
  {
   "cell_type": "markdown",
   "id": "476cb653",
   "metadata": {},
   "source": [
    "# COMPARISION  OPERATOR"
   ]
  },
  {
   "cell_type": "code",
   "execution_count": null,
   "id": "d63d29c3",
   "metadata": {},
   "outputs": [],
   "source": [
    "x = 15\n",
    "y = 20\n",
    "x == y"
   ]
  },
  {
   "cell_type": "code",
   "execution_count": null,
   "id": "f22d250d",
   "metadata": {},
   "outputs": [],
   "source": [
    "x = 15\n",
    "y = 20\n",
    "x != y"
   ]
  },
  {
   "cell_type": "markdown",
   "id": "b90792e1",
   "metadata": {},
   "source": [
    "# LOGICAL OPERATOR"
   ]
  },
  {
   "cell_type": "code",
   "execution_count": null,
   "id": "dd8fe980",
   "metadata": {},
   "outputs": [],
   "source": [
    "a = 5\n",
    "b = 10\n",
    "print(a>2 and b<15)\n",
    "print(a>2 and b<8)\n",
    "print(a>2 or b<15)\n",
    "print(a>2 or b<8)\n",
    "print(not(a>2 or b<15))"
   ]
  },
  {
   "cell_type": "code",
   "execution_count": null,
   "id": "ce3791e9",
   "metadata": {},
   "outputs": [],
   "source": [
    "a = 5\n",
    "b = 10\n",
    "print(not(a>2))\n",
    "print(not(a>6))"
   ]
  },
  {
   "cell_type": "markdown",
   "id": "f44d65fe",
   "metadata": {},
   "source": [
    "# IDENTITY OPERATOR"
   ]
  },
  {
   "cell_type": "code",
   "execution_count": null,
   "id": "9d069766",
   "metadata": {},
   "outputs": [],
   "source": [
    "a = [1,2,3]\n",
    "b = a\n",
    "c = [1,2,3]\n",
    "d = c\n",
    "print (a is b)\n",
    "print (a is c)\n",
    "print (c is not d)"
   ]
  },
  {
   "cell_type": "code",
   "execution_count": null,
   "id": "3bcf136b",
   "metadata": {},
   "outputs": [],
   "source": [
    "a = [1,2,3]\n",
    "b = [5,6,7]\n",
    "b = a\n",
    "print(b)"
   ]
  },
  {
   "cell_type": "markdown",
   "id": "17b689e0",
   "metadata": {},
   "source": [
    "CACHED RANGE IN PYTHON (-5 TO -256)(IDENTITY OPERATOR)"
   ]
  },
  {
   "cell_type": "code",
   "execution_count": null,
   "id": "217fa2f7",
   "metadata": {},
   "outputs": [],
   "source": [
    "fruits =['Apple','Banana','Cherry']\n",
    "print('Banana' in fruits)\n",
    "print('Grapes'in fruits)"
   ]
  },
  {
   "cell_type": "code",
   "execution_count": null,
   "id": "d47ee7e1",
   "metadata": {},
   "outputs": [],
   "source": [
    "text = \"Hello.World!\"\n",
    "print('H' in text)\n",
    "print('hello' in text )"
   ]
  },
  {
   "cell_type": "code",
   "execution_count": null,
   "id": "e89bb783",
   "metadata": {},
   "outputs": [],
   "source": [
    "fruits =['Apple','Banana','Cherry']\n",
    "print('Grapes' not in fruits)\n",
    "print('Banana' not in fruits)"
   ]
  },
  {
   "cell_type": "code",
   "execution_count": null,
   "id": "2cb577dd",
   "metadata": {},
   "outputs": [],
   "source": [
    "person = {'name' : 'Alice', 'age' : 25}\n",
    "print('name' in person)\n",
    "print('Alice' in person)"
   ]
  },
  {
   "cell_type": "markdown",
   "id": "5a02ba06",
   "metadata": {},
   "source": [
    "# MATH MODULE"
   ]
  },
  {
   "cell_type": "markdown",
   "id": "4c13ca56",
   "metadata": {},
   "source": [
    "ceil -  returns the smallest integer greater than or equal to a given number.\n",
    "floor -it gives the previous whole number\n",
    "sqrt - it will find the square root\n",
    "pow - to find the power"
   ]
  },
  {
   "cell_type": "code",
   "execution_count": null,
   "id": "eccbcca9",
   "metadata": {},
   "outputs": [],
   "source": [
    "import math\n",
    "print(math.ceil(3.6))\n",
    "print(math.floor(2.6))\n",
    "print(math.sqrt(4))\n",
    "print(math.pow(2,3))"
   ]
  },
  {
   "cell_type": "code",
   "execution_count": null,
   "id": "9a5d3522",
   "metadata": {},
   "outputs": [],
   "source": [
    "print(math.pi)"
   ]
  },
  {
   "cell_type": "code",
   "execution_count": null,
   "id": "2a8499c1",
   "metadata": {},
   "outputs": [],
   "source": [
    "print(math.e)"
   ]
  },
  {
   "cell_type": "code",
   "execution_count": null,
   "id": "2063de1e",
   "metadata": {},
   "outputs": [],
   "source": [
    "print(math.trunc(2.9))"
   ]
  },
  {
   "cell_type": "code",
   "execution_count": null,
   "id": "1ece907d",
   "metadata": {},
   "outputs": [],
   "source": [
    "print(math.fabs(-7))"
   ]
  },
  {
   "cell_type": "code",
   "execution_count": null,
   "id": "d0faccb2",
   "metadata": {},
   "outputs": [],
   "source": [
    "print(math.exp(2))"
   ]
  },
  {
   "cell_type": "code",
   "execution_count": null,
   "id": "2d42b948",
   "metadata": {},
   "outputs": [],
   "source": [
    "print(math.log(8,2))"
   ]
  },
  {
   "cell_type": "code",
   "execution_count": null,
   "id": "792a682e",
   "metadata": {},
   "outputs": [],
   "source": [
    "print(math.factorial(5))"
   ]
  },
  {
   "cell_type": "code",
   "execution_count": null,
   "id": "4e5e0c83",
   "metadata": {},
   "outputs": [],
   "source": [
    "print(math.gcd(36,60))"
   ]
  },
  {
   "cell_type": "code",
   "execution_count": null,
   "id": "2296d397",
   "metadata": {},
   "outputs": [],
   "source": []
  },
  {
   "cell_type": "code",
   "execution_count": null,
   "id": "006a8943",
   "metadata": {},
   "outputs": [],
   "source": []
  },
  {
   "cell_type": "code",
   "execution_count": null,
   "id": "f504d1a4",
   "metadata": {},
   "outputs": [],
   "source": []
  },
  {
   "cell_type": "code",
   "execution_count": null,
   "id": "b242dafb",
   "metadata": {},
   "outputs": [],
   "source": []
  },
  {
   "cell_type": "code",
   "execution_count": null,
   "id": "7bcd5a90",
   "metadata": {},
   "outputs": [],
   "source": []
  },
  {
   "cell_type": "code",
   "execution_count": null,
   "id": "ece1392d",
   "metadata": {},
   "outputs": [],
   "source": []
  },
  {
   "cell_type": "code",
   "execution_count": null,
   "id": "a7c9f77d",
   "metadata": {},
   "outputs": [],
   "source": []
  },
  {
   "cell_type": "code",
   "execution_count": null,
   "id": "7cffed56",
   "metadata": {},
   "outputs": [],
   "source": []
  },
  {
   "cell_type": "code",
   "execution_count": null,
   "id": "554e5a60",
   "metadata": {},
   "outputs": [],
   "source": []
  },
  {
   "cell_type": "code",
   "execution_count": null,
   "id": "c63c5ddc",
   "metadata": {},
   "outputs": [],
   "source": []
  },
  {
   "cell_type": "code",
   "execution_count": null,
   "id": "e3c58a4d",
   "metadata": {},
   "outputs": [],
   "source": []
  },
  {
   "cell_type": "code",
   "execution_count": null,
   "id": "1a476546",
   "metadata": {},
   "outputs": [],
   "source": []
  },
  {
   "cell_type": "code",
   "execution_count": null,
   "id": "9e72a0cd",
   "metadata": {},
   "outputs": [],
   "source": []
  },
  {
   "cell_type": "code",
   "execution_count": null,
   "id": "812979a3",
   "metadata": {},
   "outputs": [],
   "source": []
  },
  {
   "cell_type": "code",
   "execution_count": null,
   "id": "6d719aa8",
   "metadata": {},
   "outputs": [],
   "source": []
  },
  {
   "cell_type": "code",
   "execution_count": null,
   "id": "4bb698a5",
   "metadata": {},
   "outputs": [],
   "source": []
  },
  {
   "cell_type": "code",
   "execution_count": null,
   "id": "009f5b58",
   "metadata": {},
   "outputs": [],
   "source": []
  },
  {
   "cell_type": "code",
   "execution_count": null,
   "id": "1f2b69ac",
   "metadata": {},
   "outputs": [],
   "source": []
  },
  {
   "cell_type": "code",
   "execution_count": null,
   "id": "aeb7ccfe",
   "metadata": {},
   "outputs": [],
   "source": []
  },
  {
   "cell_type": "code",
   "execution_count": null,
   "id": "937e02af",
   "metadata": {},
   "outputs": [],
   "source": []
  },
  {
   "cell_type": "code",
   "execution_count": null,
   "id": "ff796c28",
   "metadata": {},
   "outputs": [],
   "source": []
  },
  {
   "cell_type": "code",
   "execution_count": null,
   "id": "108306c2",
   "metadata": {},
   "outputs": [],
   "source": []
  },
  {
   "cell_type": "code",
   "execution_count": null,
   "id": "d981ea88",
   "metadata": {},
   "outputs": [],
   "source": []
  },
  {
   "cell_type": "code",
   "execution_count": null,
   "id": "23fea48f",
   "metadata": {},
   "outputs": [],
   "source": []
  },
  {
   "cell_type": "code",
   "execution_count": null,
   "id": "ddc6278f",
   "metadata": {},
   "outputs": [],
   "source": []
  },
  {
   "cell_type": "code",
   "execution_count": null,
   "id": "c3bdfe5f",
   "metadata": {},
   "outputs": [],
   "source": []
  },
  {
   "cell_type": "code",
   "execution_count": null,
   "id": "2caa70a5",
   "metadata": {},
   "outputs": [],
   "source": []
  },
  {
   "cell_type": "code",
   "execution_count": null,
   "id": "28714112",
   "metadata": {},
   "outputs": [],
   "source": []
  },
  {
   "cell_type": "code",
   "execution_count": null,
   "id": "c8d51b06",
   "metadata": {},
   "outputs": [],
   "source": []
  },
  {
   "cell_type": "code",
   "execution_count": null,
   "id": "f7c7f743",
   "metadata": {},
   "outputs": [],
   "source": []
  },
  {
   "cell_type": "code",
   "execution_count": null,
   "id": "eef7160f",
   "metadata": {},
   "outputs": [],
   "source": []
  },
  {
   "cell_type": "code",
   "execution_count": null,
   "id": "9a7fe2f2",
   "metadata": {},
   "outputs": [],
   "source": []
  },
  {
   "cell_type": "code",
   "execution_count": null,
   "id": "620c4bee",
   "metadata": {},
   "outputs": [],
   "source": []
  },
  {
   "cell_type": "markdown",
   "id": "e060bea6",
   "metadata": {},
   "source": []
  },
  {
   "cell_type": "code",
   "execution_count": null,
   "id": "04a56ecd",
   "metadata": {},
   "outputs": [],
   "source": []
  },
  {
   "cell_type": "markdown",
   "id": "22eeae2f",
   "metadata": {},
   "source": []
  },
  {
   "cell_type": "code",
   "execution_count": null,
   "id": "74d393b5",
   "metadata": {},
   "outputs": [],
   "source": []
  },
  {
   "cell_type": "markdown",
   "id": "744cf7c5",
   "metadata": {},
   "source": []
  },
  {
   "cell_type": "code",
   "execution_count": null,
   "id": "5d5c562d",
   "metadata": {},
   "outputs": [],
   "source": []
  },
  {
   "cell_type": "code",
   "execution_count": null,
   "id": "e4e20056",
   "metadata": {},
   "outputs": [],
   "source": []
  },
  {
   "cell_type": "code",
   "execution_count": null,
   "id": "f734fa8b",
   "metadata": {},
   "outputs": [],
   "source": []
  },
  {
   "cell_type": "code",
   "execution_count": null,
   "id": "28567088",
   "metadata": {},
   "outputs": [],
   "source": []
  },
  {
   "cell_type": "code",
   "execution_count": null,
   "id": "2d896b0a",
   "metadata": {},
   "outputs": [],
   "source": []
  },
  {
   "cell_type": "code",
   "execution_count": null,
   "id": "20297866",
   "metadata": {},
   "outputs": [],
   "source": []
  },
  {
   "cell_type": "code",
   "execution_count": null,
   "id": "8a8976d0",
   "metadata": {},
   "outputs": [],
   "source": []
  },
  {
   "cell_type": "code",
   "execution_count": null,
   "id": "fa2c9975",
   "metadata": {},
   "outputs": [],
   "source": []
  },
  {
   "cell_type": "code",
   "execution_count": null,
   "id": "8d8be6ec",
   "metadata": {},
   "outputs": [],
   "source": []
  },
  {
   "cell_type": "markdown",
   "id": "dea46790",
   "metadata": {},
   "source": []
  },
  {
   "cell_type": "code",
   "execution_count": null,
   "id": "54904ca3",
   "metadata": {},
   "outputs": [],
   "source": []
  },
  {
   "cell_type": "markdown",
   "id": "471c7a7a",
   "metadata": {},
   "source": []
  },
  {
   "cell_type": "code",
   "execution_count": null,
   "id": "559e4156",
   "metadata": {},
   "outputs": [],
   "source": []
  },
  {
   "cell_type": "code",
   "execution_count": null,
   "id": "1a11c387",
   "metadata": {},
   "outputs": [],
   "source": []
  },
  {
   "cell_type": "code",
   "execution_count": null,
   "id": "0a628af4",
   "metadata": {},
   "outputs": [],
   "source": []
  },
  {
   "cell_type": "code",
   "execution_count": null,
   "id": "bb4b6af3",
   "metadata": {},
   "outputs": [],
   "source": []
  },
  {
   "cell_type": "code",
   "execution_count": null,
   "id": "ad30951f",
   "metadata": {},
   "outputs": [],
   "source": []
  },
  {
   "cell_type": "code",
   "execution_count": null,
   "id": "deae1142",
   "metadata": {},
   "outputs": [],
   "source": []
  },
  {
   "cell_type": "code",
   "execution_count": null,
   "id": "ecd37bcb",
   "metadata": {},
   "outputs": [],
   "source": []
  },
  {
   "cell_type": "code",
   "execution_count": null,
   "id": "e6248e72",
   "metadata": {},
   "outputs": [],
   "source": []
  }
 ],
 "metadata": {
  "kernelspec": {
   "display_name": "Python 3 (ipykernel)",
   "language": "python",
   "name": "python3"
  },
  "language_info": {
   "codemirror_mode": {
    "name": "ipython",
    "version": 3
   },
   "file_extension": ".py",
   "mimetype": "text/x-python",
   "name": "python",
   "nbconvert_exporter": "python",
   "pygments_lexer": "ipython3",
   "version": "3.9.12"
  }
 },
 "nbformat": 4,
 "nbformat_minor": 5
}
