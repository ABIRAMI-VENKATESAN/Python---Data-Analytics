{
 "cells": [
  {
   "cell_type": "code",
   "execution_count": 22,
   "id": "085f7e3a",
   "metadata": {},
   "outputs": [
    {
     "data": {
      "application/javascript": [
       "IPython.notebook.set_autosave_interval(1000)"
      ]
     },
     "metadata": {},
     "output_type": "display_data"
    },
    {
     "name": "stdout",
     "output_type": "stream",
     "text": [
      "Autosaving every 1 seconds\n"
     ]
    }
   ],
   "source": [
    "%autosave 1"
   ]
  },
  {
   "cell_type": "code",
   "execution_count": 19,
   "id": "8c1ea4d1",
   "metadata": {},
   "outputs": [],
   "source": [
    "class xyz:\n",
    "    p = 20\n",
    "    q = 30\n",
    "    def un1(self):\n",
    "        print(\"The value of P :\",self.p)\n",
    "    def fun2(self,b):\n",
    "        m = b*self.p\n",
    "        return m\n",
    "object = xyz()"
   ]
  },
  {
   "cell_type": "code",
   "execution_count": 9,
   "id": "2d9084d4",
   "metadata": {},
   "outputs": [
    {
     "name": "stdout",
     "output_type": "stream",
     "text": [
      "The value of P : 20\n"
     ]
    }
   ],
   "source": [
    "object.fun1()"
   ]
  },
  {
   "cell_type": "code",
   "execution_count": 10,
   "id": "c30d1613",
   "metadata": {},
   "outputs": [
    {
     "data": {
      "text/plain": [
       "140"
      ]
     },
     "execution_count": 10,
     "metadata": {},
     "output_type": "execute_result"
    }
   ],
   "source": [
    "object.fun2(7)"
   ]
  },
  {
   "cell_type": "code",
   "execution_count": 28,
   "id": "ced97d46",
   "metadata": {},
   "outputs": [],
   "source": [
    "class Dog:\n",
    "    def __init__(self,name):\n",
    "        self.name = name\n",
    "    def talk(self):\n",
    "        print(\"Woof!\")\n",
    "    def printname(self):\n",
    "            print(\"My Name is:{}\".format(self.name))"
   ]
  },
  {
   "cell_type": "code",
   "execution_count": 29,
   "id": "334f0ef2",
   "metadata": {},
   "outputs": [
    {
     "name": "stdout",
     "output_type": "stream",
     "text": [
      "Woof!\n"
     ]
    }
   ],
   "source": [
    "dog = Dog(\"Charlie\")\n",
    "dog.talk()\n"
   ]
  },
  {
   "cell_type": "code",
   "execution_count": 30,
   "id": "f3e173ff",
   "metadata": {},
   "outputs": [
    {
     "name": "stdout",
     "output_type": "stream",
     "text": [
      "My Name is:Charlie\n"
     ]
    }
   ],
   "source": [
    "dog.printname()"
   ]
  },
  {
   "cell_type": "code",
   "execution_count": 43,
   "id": "8853f2be",
   "metadata": {},
   "outputs": [],
   "source": [
    "class Faculty:\n",
    "    def data(self):\n",
    "        self.id = int(input(\"Enter Faculty Id \\n\"))\n",
    "        self.name = input(\"Enter Name of Faculty \\n \")\n",
    "        self.salary = int(input(\"Enter faculty salary \\n\"))\n",
    "    def show(self):\n",
    "        print(\"Faculty id:\",self.id)\n",
    "        print(\"Faculty Name:\",self.name)\n",
    "        print(\"Faculty Salary:\",self.salary)\n",
    "        "
   ]
  },
  {
   "cell_type": "code",
   "execution_count": 44,
   "id": "2da13ae0",
   "metadata": {},
   "outputs": [],
   "source": [
    "f_data = Faculty()"
   ]
  },
  {
   "cell_type": "code",
   "execution_count": 45,
   "id": "8ecf79bb",
   "metadata": {},
   "outputs": [
    {
     "name": "stdout",
     "output_type": "stream",
     "text": [
      "Enter Faculty Id \n",
      "20\n",
      "Enter Name of Faculty \n",
      " SANDEEP\n",
      "Enter faculty salary \n",
      "6000000\n"
     ]
    }
   ],
   "source": [
    "f_data.data()"
   ]
  },
  {
   "cell_type": "code",
   "execution_count": 46,
   "id": "e28658c8",
   "metadata": {},
   "outputs": [
    {
     "name": "stdout",
     "output_type": "stream",
     "text": [
      "Faculty id: 20\n",
      "Faculty Name: SANDEEP\n",
      "Faculty Salary: 6000000\n"
     ]
    }
   ],
   "source": [
    "f_data.show()"
   ]
  },
  {
   "cell_type": "code",
   "execution_count": 51,
   "id": "73bfa754",
   "metadata": {},
   "outputs": [],
   "source": [
    "class Faculty:\n",
    "    def __init__ (self,id,name,salary):\n",
    "        self.id = id\n",
    "        self.name = name\n",
    "        self.salary = salary\n",
    "    def show(self):\n",
    "        print(\"Faculty id:\",self.id)\n",
    "        print(\"Faculty Name:\",self.name)\n",
    "        print(\"Faculty Salary:\",self.salary)\n",
    "        "
   ]
  },
  {
   "cell_type": "code",
   "execution_count": 53,
   "id": "a58d8092",
   "metadata": {},
   "outputs": [],
   "source": [
    "info = Faculty(1,\"John\",50000)"
   ]
  },
  {
   "cell_type": "code",
   "execution_count": 54,
   "id": "5e583759",
   "metadata": {},
   "outputs": [
    {
     "name": "stdout",
     "output_type": "stream",
     "text": [
      "Faculty id: 1\n",
      "Faculty Name: John\n",
      "Faculty Salary: 50000\n"
     ]
    }
   ],
   "source": [
    "info.show()"
   ]
  },
  {
   "cell_type": "markdown",
   "id": "f4dc59b2",
   "metadata": {},
   "source": [
    "# INHERITANCE:"
   ]
  },
  {
   "cell_type": "code",
   "execution_count": 8,
   "id": "26962a94",
   "metadata": {},
   "outputs": [],
   "source": [
    "class Animal:\n",
    "    def __init__(self,name):\n",
    "        self.name = name\n",
    "    def speak(self):\n",
    "        return f\"{self.name} makes sound\"\n",
    "class Dog(Animal):\n",
    "    def speak(self):\n",
    "        return f\"{self.name} barks\"\n",
    "class cat(Animal):\n",
    "    def speak (self):\n",
    "        return f\"{self.name} Meow\""
   ]
  },
  {
   "cell_type": "code",
   "execution_count": 9,
   "id": "e7869791",
   "metadata": {},
   "outputs": [
    {
     "name": "stdout",
     "output_type": "stream",
     "text": [
      "Generic Animal makes sound\n"
     ]
    }
   ],
   "source": [
    "animal = Animal(\"Generic Animal\")\n",
    "print(animal.speak())"
   ]
  },
  {
   "cell_type": "code",
   "execution_count": 19,
   "id": "7c469b5d",
   "metadata": {},
   "outputs": [
    {
     "name": "stdout",
     "output_type": "stream",
     "text": [
      "Max barks\n"
     ]
    }
   ],
   "source": [
    "dog = Dog(\"Max\")\n",
    "print(dog.speak())"
   ]
  },
  {
   "cell_type": "code",
   "execution_count": 21,
   "id": "9a63a66c",
   "metadata": {},
   "outputs": [
    {
     "name": "stdout",
     "output_type": "stream",
     "text": [
      "Jasmine Meow\n"
     ]
    }
   ],
   "source": [
    "Cat = cat(\"Jasmine\")\n",
    "print(Cat.speak())"
   ]
  },
  {
   "cell_type": "markdown",
   "id": "a40bf7c4",
   "metadata": {},
   "source": [
    "# POLYMORPHISM:\n"
   ]
  },
  {
   "cell_type": "code",
   "execution_count": 27,
   "id": "21c0b7eb",
   "metadata": {},
   "outputs": [
    {
     "name": "stdout",
     "output_type": "stream",
     "text": [
      "140\n"
     ]
    }
   ],
   "source": [
    "def sum(a,b):\n",
    "    print(a+b)\n",
    "def sum(a,b,c):\n",
    "     print(a+b+c)\n",
    "def add (d,e,f=0,g=0):\n",
    "      print(d+e+f+g)\n",
    "add (20,50,70)    "
   ]
  },
  {
   "cell_type": "markdown",
   "id": "de851e34",
   "metadata": {},
   "source": [
    "# METHOD OVERIDING EXAMPLE:"
   ]
  },
  {
   "cell_type": "code",
   "execution_count": 29,
   "id": "974ba5df",
   "metadata": {},
   "outputs": [
    {
     "name": "stdout",
     "output_type": "stream",
     "text": [
      "Some Generic Sound\n",
      "Meow\n",
      "Barks\n"
     ]
    }
   ],
   "source": [
    "class Animal:\n",
    "    def sound(Vyankat):\n",
    "        return \"Some Generic Sound\"\n",
    "class Dog:\n",
    "     def sound(Vyankat):\n",
    "        return \"Barks\"\n",
    "class Cat:\n",
    "     def sound(Vyankat):\n",
    "        return \"Meow\"\n",
    "animal = Animal()\n",
    "cat = Cat()\n",
    "dog = Dog()\n",
    "print(animal.sound())\n",
    "print(cat.sound())\n",
    "print(dog.sound())"
   ]
  },
  {
   "cell_type": "markdown",
   "id": "04c461f1",
   "metadata": {},
   "source": [
    "# METHOD OVERLOADING EXAMPLE:"
   ]
  },
  {
   "cell_type": "code",
   "execution_count": 30,
   "id": "82fd977c",
   "metadata": {},
   "outputs": [
    {
     "name": "stdout",
     "output_type": "stream",
     "text": [
      "12\n"
     ]
    }
   ],
   "source": [
    "class MathOperations:\n",
    "    def add (self,a=0,b=0,c=0,d=0):\n",
    "        return a+b+c+d\n",
    "math_op = MathOperations()\n",
    "print(math_op.add(2,3,3,4))"
   ]
  },
  {
   "cell_type": "markdown",
   "id": "592c44ec",
   "metadata": {},
   "source": [
    "# ENCAPSULATION:"
   ]
  },
  {
   "cell_type": "code",
   "execution_count": 32,
   "id": "42dfb4db",
   "metadata": {},
   "outputs": [
    {
     "name": "stdout",
     "output_type": "stream",
     "text": [
      "10\n",
      "20\n"
     ]
    }
   ],
   "source": [
    "class A:\n",
    "    a = 10\n",
    "    __b = 20\n",
    "    def Fun1(self):\n",
    "        print(self.a)\n",
    "    def Fun2(self):\n",
    "        print(self.__b)\n",
    "obj = A()\n",
    "obj.Fun1()\n",
    "obj.Fun2()"
   ]
  },
  {
   "cell_type": "code",
   "execution_count": 33,
   "id": "bdf0ce2e",
   "metadata": {},
   "outputs": [
    {
     "ename": "AttributeError",
     "evalue": "'A' object has no attribute '__b'",
     "output_type": "error",
     "traceback": [
      "\u001b[1;31m---------------------------------------------------------------------------\u001b[0m",
      "\u001b[1;31mAttributeError\u001b[0m                            Traceback (most recent call last)",
      "Input \u001b[1;32mIn [33]\u001b[0m, in \u001b[0;36m<cell line: 2>\u001b[1;34m()\u001b[0m\n\u001b[0;32m      1\u001b[0m obj\u001b[38;5;241m.\u001b[39ma\n\u001b[1;32m----> 2\u001b[0m \u001b[43mobj\u001b[49m\u001b[38;5;241;43m.\u001b[39;49m\u001b[43m__b\u001b[49m\n",
      "\u001b[1;31mAttributeError\u001b[0m: 'A' object has no attribute '__b'"
     ]
    }
   ],
   "source": [
    "obj.a\n",
    "obj.__b"
   ]
  },
  {
   "cell_type": "markdown",
   "id": "69c937fd",
   "metadata": {},
   "source": [
    "# EXCEPTION HANDLING:"
   ]
  },
  {
   "cell_type": "code",
   "execution_count": 35,
   "id": "94ad5321",
   "metadata": {},
   "outputs": [
    {
     "name": "stdout",
     "output_type": "stream",
     "text": [
      "Enter a Number:\n",
      "6\n",
      "Result:60.0\n",
      "The Code is Good\n",
      "This final block is optional and will execute legardless of an error\n"
     ]
    }
   ],
   "source": [
    "try:\n",
    "    num = float(input(\"Enter a Number:\\n\"))\n",
    "    result = num*10\n",
    "    print(f\"Result:{result}\")\n",
    "except ValueError:\n",
    "    print(\"Error:could not convert string to float:\")\n",
    "else:\n",
    "    print(\"The Code is Good\")\n",
    "finally:\n",
    "    print(\"This final block is optional and will execute legardless of an error\")"
   ]
  },
  {
   "cell_type": "code",
   "execution_count": 36,
   "id": "22986f1b",
   "metadata": {},
   "outputs": [
    {
     "name": "stdout",
     "output_type": "stream",
     "text": [
      "Enter the first number\n",
      "50\n",
      "Enter the second number\n",
      "0\n",
      "Error:Zero Division\n"
     ]
    }
   ],
   "source": [
    "try:\n",
    "    num1 = int(input(\"Enter the first number\\n\"))\n",
    "    num2 = int(input(\"Enter the second number\\n\"))\n",
    "    result = num1/num2\n",
    "    print(f\"Result:{result}\")\n",
    "except ZeroDivisionError:\n",
    "    print(\"Error:Zero Division\")\n",
    "except ValueError:\n",
    "    print(\"Error:Value Error\")\n",
    "except Except as e:\n",
    "     print(f\"An unexpected error occured:{e}\")\n",
    "else:\n",
    "    print(\"execution is successful\")"
   ]
  },
  {
   "cell_type": "markdown",
   "id": "4557c68e",
   "metadata": {},
   "source": [
    "# ADVANCED DATA STRUCTURE:"
   ]
  },
  {
   "cell_type": "markdown",
   "id": "282228f5",
   "metadata": {},
   "source": [
    "# DEQUE:"
   ]
  },
  {
   "cell_type": "code",
   "execution_count": 37,
   "id": "586d15e7",
   "metadata": {},
   "outputs": [
    {
     "name": "stdout",
     "output_type": "stream",
     "text": [
      "deque([1, 2])\n",
      "deque([])\n",
      "deque([1, 2, 3])\n",
      "deque([1, 2, 3, 6, 5, 4])\n"
     ]
    }
   ],
   "source": [
    "from collections import deque\n",
    "d = deque()\n",
    "d.append(1)\n",
    "d.append(2)\n",
    "print(d)\n",
    "d.pop()\n",
    "d.popleft()\n",
    "print(d)\n",
    "d.extend([1,2,3])\n",
    "print(d)\n",
    "d.extend([6,5,4])\n",
    "print(d)"
   ]
  },
  {
   "cell_type": "code",
   "execution_count": 39,
   "id": "4c03f68f",
   "metadata": {},
   "outputs": [
    {
     "name": "stdout",
     "output_type": "stream",
     "text": [
      "Initial deque: deque([1, 2, 3, 4, 5])\n",
      "After appending 6 to the right: deque([1, 2, 3, 4, 5, 6])\n",
      "After popping from the right (6removed): deque([1, 2, 3, 4, 5])\n",
      "After popping from the left (1removed): deque([2, 3, 4, 5])\n",
      "After popping from the right with [7,8]:,my_deque\n",
      "After popping from the left with [-2,-1]:,my_deque\n",
      "After rotating right by 2: deque([-2, -1, 2, 3, 4, 5, 7, 8])\n",
      "After rotating right by -2: deque([2, 3, 4, 5, 7, 8, -2, -1])\n",
      "After cleaning the deque: deque([])\n"
     ]
    }
   ],
   "source": [
    "from collections import deque\n",
    "my_deque = deque([1,2,3,4,5])\n",
    "print(\"Initial deque:\",my_deque)\n",
    "my_deque.append(6)\n",
    "print(\"After appending 6 to the right:\",my_deque)\n",
    "popped_right = my_deque.pop()\n",
    "print(f\"After popping from the right ({popped_right}removed):\",my_deque)\n",
    "popped_left = my_deque.popleft()\n",
    "print(f\"After popping from the left ({popped_left}removed):\",my_deque)\n",
    "my_deque.extend([7,8])\n",
    "print(\"After popping from the right with [7,8]:,my_deque\")\n",
    "my_deque.extend([-2,-1])\n",
    "print(\"After popping from the left with [-2,-1]:,my_deque\")\n",
    "my_deque.rotate(2)\n",
    "print(\"After rotating right by 2:\",my_deque)\n",
    "my_deque.rotate(-2)\n",
    "print(\"After rotating right by -2:\",my_deque)\n",
    "my_deque.clear()\n",
    "print(\"After cleaning the deque:\",my_deque)"
   ]
  },
  {
   "cell_type": "markdown",
   "id": "03d524f2",
   "metadata": {},
   "source": [
    "# NAMED TUPLE:"
   ]
  },
  {
   "cell_type": "code",
   "execution_count": 40,
   "id": "3586ed0f",
   "metadata": {},
   "outputs": [
    {
     "name": "stdout",
     "output_type": "stream",
     "text": [
      "John Doe\n",
      "30\n",
      "New York\n"
     ]
    }
   ],
   "source": [
    "from collections import namedtuple\n",
    "person = namedtuple('person',['name','age','city'])\n",
    "person1 = person(name = \"John Doe\",age = 30,city = \"New York\")\n",
    "print(person1.name)\n",
    "print(person1.age)\n",
    "print(person1.city)"
   ]
  },
  {
   "cell_type": "markdown",
   "id": "ca37a779",
   "metadata": {},
   "source": [
    "# CHAIN MAP:\n"
   ]
  },
  {
   "cell_type": "code",
   "execution_count": 3,
   "id": "efe138da",
   "metadata": {},
   "outputs": [
    {
     "name": "stdout",
     "output_type": "stream",
     "text": [
      "1\n",
      "2\n",
      "4\n",
      "3\n"
     ]
    }
   ],
   "source": [
    "from collections import ChainMap\n",
    "dict1 = {'a':1,'b':2}\n",
    "dict2 = {'b':3,'c':4}\n",
    "combined = ChainMap(dict1,dict2)\n",
    "print(combined['a'])\n",
    "print(combined['b'])\n",
    "print(combined['c'])\n",
    "print(combined.maps[1]['b'])\n",
    "\n"
   ]
  },
  {
   "cell_type": "code",
   "execution_count": 5,
   "id": "abbaae12",
   "metadata": {},
   "outputs": [
    {
     "name": "stdout",
     "output_type": "stream",
     "text": [
      "Value of'a': 1\n",
      "Value of'b': 2\n",
      "Value of'c': 3\n",
      "Update'b' in combined chainmap: ChainMap({'a': 1, 'b': 7, 'c': 3}, {'b': 3, 'c': 4, 'e': 6})\n",
      "Update dict1: {'a': 1, 'b': 7, 'c': 3}\n",
      "Update dict2: {'b': 3, 'c': 4, 'e': 6}\n",
      "Added 'f' to combined chainmap: ChainMap({'a': 1, 'b': 7, 'c': 3, 'f': 7}, {'b': 3, 'c': 4, 'e': 6})\n",
      "Update dict1: {'a': 1, 'b': 7, 'c': 3, 'f': 7}\n",
      "Update dict2: {'b': 3, 'c': 4, 'e': 6}\n",
      "All keys ['b', 'c', 'e', 'a', 'f']\n",
      "All values [7, 3, 6, 1, 7]\n",
      "All items [('b', 7), ('c', 3), ('e', 6), ('a', 1), ('f', 7)]\n"
     ]
    }
   ],
   "source": [
    "from collections import ChainMap\n",
    "dict1 = {'a':1,'b':2,'c':3}\n",
    "dict2 = {'b':3,'c':4,'e':6}\n",
    "combined = ChainMap(dict1,dict2)\n",
    "print(\"Value of'a':\",combined['a'])\n",
    "print(\"Value of'b':\",combined['b'])\n",
    "print(\"Value of'c':\",combined['c'])\n",
    "combined['b'] = 10\n",
    "dict1['b'] = 7\n",
    "print(\"Update'b' in combined chainmap:\",combined)\n",
    "print(\"Update dict1:\",dict1)\n",
    "print(\"Update dict2:\",dict2)\n",
    "combined['f'] = 7\n",
    "print(\"Added 'f' to combined chainmap:\",combined)\n",
    "print(\"Update dict1:\",dict1)\n",
    "print(\"Update dict2:\",dict2)\n",
    "print(\"All keys\",list(combined.keys()))\n",
    "print(\"All values\",list(combined.values()))\n",
    "print(\"All items\",list(combined.items()))"
   ]
  },
  {
   "cell_type": "markdown",
   "id": "e438ad12",
   "metadata": {},
   "source": [
    "# COUNTER:"
   ]
  },
  {
   "cell_type": "code",
   "execution_count": 7,
   "id": "e1ced502",
   "metadata": {},
   "outputs": [
    {
     "name": "stdout",
     "output_type": "stream",
     "text": [
      "Counter({'apple': 3, 'banana': 2, 'orange': 1})\n",
      "3\n",
      "2\n"
     ]
    }
   ],
   "source": [
    "from collections import Counter\n",
    "fruit = ('apple','banana','apple','orange','banana','apple')\n",
    "counter = Counter(fruit)\n",
    "print(counter)\n",
    "print(counter['apple'])\n",
    "print(counter['banana'])"
   ]
  },
  {
   "cell_type": "code",
   "execution_count": 11,
   "id": "831fda7c",
   "metadata": {},
   "outputs": [
    {
     "name": "stdout",
     "output_type": "stream",
     "text": [
      "Counter({'apple': 3, 'banana': 2, 'orange': 1})\n",
      "0\n",
      "Counter({'S': 1, 'T': 1, 'R': 1, 'I': 1, 'N': 1, 'G': 1})\n"
     ]
    }
   ],
   "source": [
    "from collections import Counter\n",
    "a = [1,2,'STRING',4,1,5,6,8,9,6,2,5,1,8,9,4,3,7,5,8,8,3,1,5]\n",
    "count = Counter(a)\n",
    "print(counter)\n",
    "print(counter[4])\n",
    "print(Counter('STRING'))"
   ]
  },
  {
   "cell_type": "code",
   "execution_count": 15,
   "id": "68b08892",
   "metadata": {},
   "outputs": [
    {
     "name": "stdout",
     "output_type": "stream",
     "text": [
      "Counter({'Python': 1, 'is': 1, 'great': 1, 'Language': 1, 'and': 1, 'easy': 1, 'to': 1, 'learn': 1, 'also': 1, 'pythonis': 1, 'powerful': 1, 'amongst': 1, 'all': 1})\n",
      "Counter({' ': 12, 'a': 9, 'o': 6, 'n': 6, 't': 5, 's': 5, 'e': 5, 'l': 5, 'g': 4, 'y': 3, 'r': 3, 'h': 2, 'i': 2, 'u': 2, 'p': 2, 'P': 1, 'L': 1, 'd': 1, 'w': 1, 'f': 1, 'm': 1})\n"
     ]
    }
   ],
   "source": [
    "from collections import Counter\n",
    "Sentence = 'Python is great Language and easy to learn also pythonis powerful amongst all'\n",
    "counter =Counter(Sentence)\n",
    "words = Sentence.split()\n",
    "word_count = Counter(words)\n",
    "print(word_count)\n",
    "print(counter)"
   ]
  },
  {
   "cell_type": "markdown",
   "id": "136a5c7e",
   "metadata": {},
   "source": [
    "# ORDER DICT:"
   ]
  },
  {
   "cell_type": "code",
   "execution_count": 20,
   "id": "582c93a2",
   "metadata": {},
   "outputs": [
    {
     "name": "stdout",
     "output_type": "stream",
     "text": [
      "OrderedDict([('a', 5), ('b', 7), ('c', 3), ('d', 4), ('e', 'word')])\n",
      "word\n",
      "7\n"
     ]
    }
   ],
   "source": [
    "from collections import OrderedDict\n",
    "od = OrderedDict()\n",
    "od['a'] = 5\n",
    "od['b'] = 7\n",
    "od['c'] = 3\n",
    "od['d'] = 4\n",
    "od['e'] = 'word'\n",
    "print(od)\n",
    "print(od['e'])\n",
    "print(od['b'])"
   ]
  },
  {
   "cell_type": "markdown",
   "id": "aad62085",
   "metadata": {},
   "source": [
    "# DEFAULT DICT:"
   ]
  },
  {
   "cell_type": "code",
   "execution_count": 22,
   "id": "a99c0295",
   "metadata": {},
   "outputs": [
    {
     "name": "stdout",
     "output_type": "stream",
     "text": [
      "0\n",
      "defaultdict(<class 'int'>, {'Python': 0, 'Java': 0, 'SQL': 0})\n",
      "0\n",
      "defaultdict(<class 'int'>, {'Python': 0, 'Java': 0, 'SQL': 0, 'Power BI': 0})\n"
     ]
    }
   ],
   "source": [
    "from collections import defaultdict\n",
    "D = defaultdict(int)\n",
    "D['Python']\n",
    "D['Java']\n",
    "print(D['SQL'])\n",
    "print(D)\n",
    "print(D['Power BI'])\n",
    "print(D)"
   ]
  },
  {
   "cell_type": "code",
   "execution_count": null,
   "id": "adcad27c",
   "metadata": {},
   "outputs": [],
   "source": []
  }
 ],
 "metadata": {
  "kernelspec": {
   "display_name": "Python 3 (ipykernel)",
   "language": "python",
   "name": "python3"
  },
  "language_info": {
   "codemirror_mode": {
    "name": "ipython",
    "version": 3
   },
   "file_extension": ".py",
   "mimetype": "text/x-python",
   "name": "python",
   "nbconvert_exporter": "python",
   "pygments_lexer": "ipython3",
   "version": "3.9.12"
  }
 },
 "nbformat": 4,
 "nbformat_minor": 5
}
